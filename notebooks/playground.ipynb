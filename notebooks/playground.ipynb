{
 "cells": [
  {
   "cell_type": "code",
   "execution_count": 15,
   "metadata": {
    "ExecuteTime": {
     "end_time": "2020-04-06T14:06:18.936802Z",
     "start_time": "2020-04-06T14:06:17.719808Z"
    },
    "pycharm": {
     "is_executing": false
    }
   },
   "outputs": [],
   "source": [
    "import requests\n",
    "import pytz\n",
    "import json\n",
    "from datetime import datetime, time as datetime_time, timedelta\n",
    "import calendar\n",
    "import pandas as pd\n"
   ]
  },
  {
   "cell_type": "code",
   "execution_count": 16,
   "metadata": {
    "ExecuteTime": {
     "end_time": "2020-04-06T14:06:18.951640Z",
     "start_time": "2020-04-06T14:06:18.940040Z"
    },
    "pycharm": {
     "is_executing": false
    }
   },
   "outputs": [],
   "source": [
    "class BearerAuth(requests.auth.AuthBase):\n",
    "    def __init__(self, token):\n",
    "        self.token = token\n",
    "\n",
    "    def __call__(self, r):\n",
    "        r.headers[\"authorization\"] = \"Bearer \" + self.token\n",
    "        return r\n"
   ]
  },
  {
   "cell_type": "code",
   "execution_count": 17,
   "metadata": {
    "ExecuteTime": {
     "end_time": "2020-04-06T14:06:18.965922Z",
     "start_time": "2020-04-06T14:06:18.956204Z"
    },
    "pycharm": {
     "is_executing": false
    }
   },
   "outputs": [],
   "source": [
    "def make_api_request(stop_id, bearer):\n",
    "    open_data_api_endpoint = \"https://opendata-api.stib-mivb.be/OperationMonitoring/4.0/PassingTimeByPoint/\" + stop_id\n",
    "    headers = {\"Accept\": \"application/json\"}\n",
    "\n",
    "    response = requests.get(open_data_api_endpoint, auth=BearerAuth(bearer))\n",
    "    \n",
    "    return response.json()"
   ]
  },
  {
   "cell_type": "code",
   "execution_count": 18,
   "metadata": {
    "ExecuteTime": {
     "end_time": "2020-04-06T14:06:18.986383Z",
     "start_time": "2020-04-06T14:06:18.976342Z"
    },
    "pycharm": {
     "is_executing": false
    }
   },
   "outputs": [],
   "source": [
    "def parse_waiting_times(json_payload, destination):\n",
    "    passing_times = json_payload['points'][0]['passingTimes']\n",
    "    str_expected_arrival_times = [passing_time['expectedArrivalTime'] for passing_time in passing_times if passing_time['destination']['fr']==destination]\n",
    "    print(str_expected_arrival_times)\n",
    "    expected_arrival_times = [datetime.fromisoformat(str_expected_arrival_time) for str_expected_arrival_time in str_expected_arrival_times]\n",
    "    return expected_arrival_times "
   ]
  },
  {
   "cell_type": "code",
   "execution_count": 19,
   "metadata": {
    "ExecuteTime": {
     "end_time": "2020-04-06T14:06:19.000467Z",
     "start_time": "2020-04-06T14:06:18.989962Z"
    },
    "pycharm": {
     "is_executing": false
    }
   },
   "outputs": [],
   "source": [
    "def compute_time_diff(start, end):\n",
    "    if isinstance(start, datetime_time): # convert to datetime\n",
    "        assert isinstance(end, datetime_time)\n",
    "        start, end = [datetime.combine(datetime.min, t) for t in [start, end]]\n",
    "    if start <= end: # e.g., 10:33:26-11:15:49\n",
    "        return end - start\n",
    "    else: # end < start e.g., 23:55:00-00:25:00\n",
    "        end += timedelta(1) # +day\n",
    "        assert end > start\n",
    "        return end - start"
   ]
  },
  {
   "cell_type": "code",
   "execution_count": 20,
   "metadata": {
    "ExecuteTime": {
     "end_time": "2020-04-06T14:06:19.026493Z",
     "start_time": "2020-04-06T14:06:19.010191Z"
    },
    "pycharm": {
     "is_executing": false
    }
   },
   "outputs": [],
   "source": [
    "from datetime import datetime, time as datetime_time, timedelta\n",
    "import pytz\n",
    "\n",
    "\n",
    "class TimeUtils:\n",
    "\n",
    "    @staticmethod\n",
    "    def get_current_localized_time():\n",
    "        current_time_utc = datetime.utcnow()\n",
    "        return pytz.utc.localize(current_time_utc)\n",
    "\n",
    "    @staticmethod\n",
    "    def compute_time_diff(start, end):\n",
    "        if isinstance(start, datetime_time): # convert to datetime\n",
    "            assert isinstance(end, datetime_time)\n",
    "            start, end = [datetime.combine(datetime.min, t) for t in [start, end]]\n",
    "        if start <= end: # e.g., 10:33:26-11:15:49\n",
    "            return TimeUtils._convert_timedelta(end - start)\n",
    "        else: # end < start e.g., 23:55:00-00:25:00\n",
    "            end += timedelta(1) # +day\n",
    "            assert end > start\n",
    "            return TimeUtils._convert_timedelta(end - start)\n",
    "\n",
    "    @staticmethod\n",
    "    def _convert_timedelta(duration):\n",
    "        duration_dict = {}\n",
    "        days, seconds = duration.days, duration.seconds\n",
    "        duration_dict['days'] = days\n",
    "        hours = seconds // 3600\n",
    "        minutes = (seconds % 3600) // 60\n",
    "        seconds = (seconds % 60)\n",
    "        duration_dict['hours'] = hours\n",
    "        duration_dict['minutes'] = minutes\n",
    "        duration_dict['seconds'] = seconds\n",
    "\n",
    "        return duration_dict\n"
   ]
  },
  {
   "cell_type": "code",
   "execution_count": 21,
   "metadata": {
    "ExecuteTime": {
     "end_time": "2020-04-06T14:06:19.117025Z",
     "start_time": "2020-04-06T14:06:19.030410Z"
    },
    "pycharm": {
     "is_executing": false
    }
   },
   "outputs": [],
   "source": [
    "from dataclasses import dataclass, field\n",
    "from typing import List, Optional, Any\n",
    "\n",
    "from dataclasses_json import dataclass_json, config, LetterCase\n",
    "\n",
    "from datetime import datetime\n",
    "\n",
    "@dataclass_json(letter_case=LetterCase.CAMEL)\n",
    "@dataclass\n",
    "class Message:\n",
    "    fr: str = \"\"\n",
    "    nl: str = \"\"\n",
    "        \n",
    "@dataclass_json(letter_case=LetterCase.CAMEL)\n",
    "@dataclass\n",
    "class Destination:\n",
    "    fr: str = \"\"\n",
    "    nl: str = \"\"\n",
    "\n",
    "@dataclass_json(letter_case=LetterCase.CAMEL)\n",
    "@dataclass\n",
    "class PassingTime:\n",
    "    destination: Optional[Destination] = None\n",
    "    message: Optional[Message] = None\n",
    "    line_id: str = \"\"\n",
    "    expected_arrival_time: str = \"\"\n",
    "    arriving_in_dict: dict = field(init=False, repr=False)\n",
    "        \n",
    "    def __post_init__(self):\n",
    "        self.expected_arrival_time = datetime.fromisoformat(self.expected_arrival_time)\n",
    "        current_localized_time = TimeUtils.get_current_localized_time()\n",
    "        self.arriving_in_dict = TimeUtils.compute_time_diff(current_localized_time, self.expected_arrival_time)\n",
    "\n",
    "\n",
    "    def __str__(self):\n",
    "        return f'{self.arriving_in_dict}'\n",
    "\n",
    "        \n",
    "\n",
    "@dataclass_json(letter_case=LetterCase.CAMEL)\n",
    "@dataclass\n",
    "class PointPassingTimes:\n",
    "    passing_times: List[PassingTime] = field(default_factory=list)\n",
    "    point_id: str = \"\"\n",
    "\n"
   ]
  },
  {
   "cell_type": "code",
   "execution_count": 22,
   "metadata": {
    "ExecuteTime": {
     "end_time": "2020-04-06T14:06:19.529819Z",
     "start_time": "2020-04-06T14:06:19.119208Z"
    },
    "pycharm": {
     "is_executing": false
    }
   },
   "outputs": [
    {
     "data": {
      "text/plain": [
       "{'points': [{'passingTimes': [{'destination': {'fr': 'ROODEBEEK',\n",
       "      'nl': 'ROODEBEEK'},\n",
       "     'expectedArrivalTime': '2020-04-06T16:09:00+02:00',\n",
       "     'lineId': '8'},\n",
       "    {'destination': {'fr': 'LEGRAND', 'nl': 'LEGRAND'},\n",
       "     'expectedArrivalTime': '2020-04-06T16:10:00+02:00',\n",
       "     'lineId': '93',\n",
       "     'message': {'fr': 'NE PAS EMBARQUER', 'nl': 'NIET INSTAPPEN'}},\n",
       "    {'destination': {'fr': 'ROODEBEEK', 'nl': 'ROODEBEEK'},\n",
       "     'expectedArrivalTime': '2020-04-06T16:23:00+02:00',\n",
       "     'lineId': '8'},\n",
       "    {'destination': {'fr': 'LEGRAND', 'nl': 'LEGRAND'},\n",
       "     'expectedArrivalTime': '2020-04-06T16:23:00+02:00',\n",
       "     'lineId': '93',\n",
       "     'message': {'fr': 'NE PAS EMBARQUER', 'nl': 'NIET INSTAPPEN'}}],\n",
       "   'pointId': '1047'}]}"
      ]
     },
     "execution_count": 22,
     "metadata": {},
     "output_type": "execute_result"
    }
   ],
   "source": [
    "legrand_stop_id = \"1047F\"\n",
    "bearer = '2753702fdd1e39b1bf9526569c578292'\n",
    "response = make_api_request(legrand_stop_id, bearer)\n",
    "response"
   ]
  },
  {
   "cell_type": "code",
   "execution_count": 23,
   "metadata": {
    "ExecuteTime": {
     "end_time": "2020-04-06T14:06:19.565277Z",
     "start_time": "2020-04-06T14:06:19.543926Z"
    },
    "pycharm": {
     "is_executing": false
    }
   },
   "outputs": [
    {
     "data": {
      "text/plain": [
       "[PointPassingTimes(passing_times=[PassingTime(destination=Destination(fr='ROODEBEEK', nl='ROODEBEEK'), message=None, line_id='8', expected_arrival_time=datetime.datetime(2020, 4, 6, 16, 9, tzinfo=datetime.timezone(datetime.timedelta(seconds=7200)))), PassingTime(destination=Destination(fr='LEGRAND', nl='LEGRAND'), message=Message(fr='NE PAS EMBARQUER', nl='NIET INSTAPPEN'), line_id='93', expected_arrival_time=datetime.datetime(2020, 4, 6, 16, 10, tzinfo=datetime.timezone(datetime.timedelta(seconds=7200)))), PassingTime(destination=Destination(fr='ROODEBEEK', nl='ROODEBEEK'), message=None, line_id='8', expected_arrival_time=datetime.datetime(2020, 4, 6, 16, 23, tzinfo=datetime.timezone(datetime.timedelta(seconds=7200)))), PassingTime(destination=Destination(fr='LEGRAND', nl='LEGRAND'), message=Message(fr='NE PAS EMBARQUER', nl='NIET INSTAPPEN'), line_id='93', expected_arrival_time=datetime.datetime(2020, 4, 6, 16, 23, tzinfo=datetime.timezone(datetime.timedelta(seconds=7200))))], point_id='1047')]"
      ]
     },
     "execution_count": 23,
     "metadata": {},
     "output_type": "execute_result"
    }
   ],
   "source": [
    "passages = PointPassingTimes.schema().load(response['points'], many=True) \n",
    "\n",
    "passages"
   ]
  },
  {
   "cell_type": "code",
   "execution_count": 24,
   "metadata": {
    "ExecuteTime": {
     "end_time": "2020-04-06T14:06:19.595303Z",
     "start_time": "2020-04-06T14:06:19.574968Z"
    },
    "pycharm": {
     "is_executing": false
    }
   },
   "outputs": [
    {
     "name": "stdout",
     "output_type": "stream",
     "text": [
      "['2020-04-06T16:09:00+02:00', '2020-04-06T16:23:00+02:00']\n",
      "0:02:40.417571\n"
     ]
    }
   ],
   "source": [
    "expected_arrival_times = parse_waiting_times(response, 'ROODEBEEK' )\n",
    "\n",
    "current_time_utc = datetime.utcnow()\n",
    "current_time_be = pytz.utc.localize(current_time_utc)\n",
    "tram_arrival_time = expected_arrival_times[0]\n",
    "\n",
    "waiting_time = compute_time_diff(current_time_be, tram_arrival_time)\n",
    "print(waiting_time)\n"
   ]
  },
  {
   "cell_type": "code",
   "execution_count": 25,
   "metadata": {
    "ExecuteTime": {
     "end_time": "2020-04-06T14:06:19.616289Z",
     "start_time": "2020-04-06T14:06:19.600263Z"
    },
    "pycharm": {
     "is_executing": false
    }
   },
   "outputs": [],
   "source": [
    "def get_shapefiles():\n",
    "    open_data_api_endpoint = \"https://opendata-api.stib-mivb.be/Files/2.0/Shapefiles\" + stop_id\n",
    "    headers = {\"Accept\": \"application/json\"}\n",
    "\n",
    "    response = requests.get(open_data_api_endpoint, auth=BearerAuth(bearer))\n",
    "    \n",
    "    return response.json()"
   ]
  },
  {
   "cell_type": "code",
   "execution_count": 26,
   "metadata": {
    "ExecuteTime": {
     "end_time": "2020-04-06T14:06:19.637500Z",
     "start_time": "2020-04-06T14:06:19.625508Z"
    }
   },
   "outputs": [],
   "source": [
    "from enum import Enum\n",
    "\n",
    "class RouteType(Enum):\n",
    "    TRAMWAY = 0\n",
    "    METRO = 1\n",
    "    BUS = 3"
   ]
  },
  {
   "cell_type": "code",
   "execution_count": 27,
   "metadata": {
    "ExecuteTime": {
     "end_time": "2020-04-06T14:06:19.676627Z",
     "start_time": "2020-04-06T14:06:19.643456Z"
    }
   },
   "outputs": [],
   "source": [
    "ROUTE_DATAPATH = \"gtfs/routes.txt\"\n",
    "STOP_DATAPATH = \"gtfs/stops.txt\"\n",
    "routes_df = pd.read_csv(ROUTE_DATAPATH)\n",
    "stops_df = pd.read_csv(STOP_DATAPATH)"
   ]
  },
  {
   "cell_type": "code",
   "execution_count": 28,
   "metadata": {
    "ExecuteTime": {
     "end_time": "2020-04-06T14:06:19.693448Z",
     "start_time": "2020-04-06T14:06:19.679020Z"
    }
   },
   "outputs": [],
   "source": [
    "@dataclass_json(letter_case=LetterCase.CAMEL)\n",
    "@dataclass\n",
    "class LinePoint:\n",
    "    id: str = \"\"\n",
    "    order: int = 0\n",
    "    stop_name: str = \"\"\n",
    "\n",
    "    def __post_init__(self):\n",
    "        try:\n",
    "            self.stop_name = stops_df[stops_df[\"stop_id\"] == self.id].iloc[0][\"stop_name\"]\n",
    "        except:\n",
    "            self.stop_name = \"\"\n",
    "            \n",
    "\n",
    "\n",
    "@dataclass_json(letter_case=LetterCase.CAMEL)\n",
    "@dataclass\n",
    "class LineDetails:\n",
    "    destination: Optional[Destination] = None\n",
    "    direction: str = \"\"\n",
    "    line_id: str = \"\"\n",
    "    points: List[LinePoint] = field(default_factory=list)\n",
    "    route_type: Optional[RouteType] = None\n",
    "\n",
    "    def __post_init__(self):\n",
    "        self.route_type = RouteType(\n",
    "            routes_df[routes_df[\"route_short_name\"] == self.line_id].iloc[0][\n",
    "                \"route_type\"\n",
    "            ]\n",
    "        )\n"
   ]
  },
  {
   "cell_type": "code",
   "execution_count": 29,
   "metadata": {
    "ExecuteTime": {
     "end_time": "2020-04-06T14:06:19.710783Z",
     "start_time": "2020-04-06T14:06:19.697470Z"
    },
    "pycharm": {
     "is_executing": false
    }
   },
   "outputs": [],
   "source": [
    "def make_line_info_api_request(line_id, bearer):\n",
    "    open_data_api_endpoint = \"https://opendata-api.stib-mivb.be/NetworkDescription/1.0/PointByLine/\" + line_id\n",
    "    headers = {\"Accept\": \"application/json\"}\n",
    "\n",
    "    response = requests.get(open_data_api_endpoint, auth=BearerAuth(bearer))\n",
    "    \n",
    "    return response.json()\n"
   ]
  },
  {
   "cell_type": "code",
   "execution_count": 30,
   "metadata": {
    "ExecuteTime": {
     "end_time": "2020-04-06T14:06:20.466222Z",
     "start_time": "2020-04-06T14:06:19.715035Z"
    }
   },
   "outputs": [
    {
     "data": {
      "text/plain": [
       "{'lines': [{'destination': {'fr': 'LEGRAND', 'nl': 'LEGRAND'},\n",
       "   'direction': 'Suburb',\n",
       "   'lineId': '93',\n",
       "   'points': [{'id': '5400', 'order': 1},\n",
       "    {'id': '5402', 'order': 2},\n",
       "    {'id': '5399F', 'order': 3},\n",
       "    {'id': '5403', 'order': 4},\n",
       "    {'id': '5010', 'order': 5},\n",
       "    {'id': '6501', 'order': 6},\n",
       "    {'id': '6505', 'order': 7},\n",
       "    {'id': '6504', 'order': 8},\n",
       "    {'id': '4130F', 'order': 9},\n",
       "    {'id': '6100', 'order': 10},\n",
       "    {'id': '6122', 'order': 11},\n",
       "    {'id': '1073', 'order': 12},\n",
       "    {'id': '6103F', 'order': 13},\n",
       "    {'id': '6178', 'order': 14},\n",
       "    {'id': '5762', 'order': 15},\n",
       "    {'id': '1646F', 'order': 16},\n",
       "    {'id': '6012G', 'order': 17},\n",
       "    {'id': '6412F', 'order': 18},\n",
       "    {'id': '6014', 'order': 19},\n",
       "    {'id': '6437F', 'order': 20},\n",
       "    {'id': '6308F', 'order': 21},\n",
       "    {'id': '6309F', 'order': 22},\n",
       "    {'id': '6310F', 'order': 23},\n",
       "    {'id': '6311', 'order': 24},\n",
       "    {'id': '6312', 'order': 25},\n",
       "    {'id': '6313', 'order': 26},\n",
       "    {'id': '6314', 'order': 27},\n",
       "    {'id': '5405', 'order': 28},\n",
       "    {'id': '5406', 'order': 29},\n",
       "    {'id': '5404', 'order': 30},\n",
       "    {'id': '5408', 'order': 31},\n",
       "    {'id': '5409', 'order': 32},\n",
       "    {'id': '1047F', 'order': 33}]},\n",
       "  {'destination': {'fr': 'STADE', 'nl': 'STADION'},\n",
       "   'direction': 'City',\n",
       "   'lineId': '93',\n",
       "   'points': [{'id': '1059', 'order': 1},\n",
       "    {'id': '5466', 'order': 2},\n",
       "    {'id': '5467', 'order': 3},\n",
       "    {'id': '5475', 'order': 4},\n",
       "    {'id': '5469', 'order': 5},\n",
       "    {'id': '5470', 'order': 6},\n",
       "    {'id': '6361', 'order': 7},\n",
       "    {'id': '6352', 'order': 8},\n",
       "    {'id': '6353F', 'order': 9},\n",
       "    {'id': '6354', 'order': 10},\n",
       "    {'id': '6355F', 'order': 11},\n",
       "    {'id': '6356F', 'order': 12},\n",
       "    {'id': '6357F', 'order': 13},\n",
       "    {'id': '6434F', 'order': 14},\n",
       "    {'id': '6359F', 'order': 15},\n",
       "    {'id': '6413F', 'order': 16},\n",
       "    {'id': '6066G', 'order': 17},\n",
       "    {'id': '1644F', 'order': 18},\n",
       "    {'id': '6177', 'order': 19},\n",
       "    {'id': '6179', 'order': 20},\n",
       "    {'id': '6168F', 'order': 21},\n",
       "    {'id': '1076', 'order': 22},\n",
       "    {'id': '6174F', 'order': 23},\n",
       "    {'id': '6171', 'order': 24},\n",
       "    {'id': '4126F', 'order': 25},\n",
       "    {'id': '6172', 'order': 26},\n",
       "    {'id': '6552', 'order': 27},\n",
       "    {'id': '6553', 'order': 28},\n",
       "    {'id': '5081F', 'order': 29},\n",
       "    {'id': '5471', 'order': 30},\n",
       "    {'id': '5398F', 'order': 31},\n",
       "    {'id': '5472', 'order': 32},\n",
       "    {'id': '5474', 'order': 33}]}]}"
      ]
     },
     "execution_count": 30,
     "metadata": {},
     "output_type": "execute_result"
    }
   ],
   "source": [
    "line_info_api_response = make_line_info_api_request(\"93\", bearer)\n",
    "line_info_api_response"
   ]
  },
  {
   "cell_type": "code",
   "execution_count": 31,
   "metadata": {
    "ExecuteTime": {
     "end_time": "2020-04-06T14:06:20.610034Z",
     "start_time": "2020-04-06T14:06:20.470813Z"
    }
   },
   "outputs": [],
   "source": [
    "lines = LineDetails.schema().load(line_info_api_response['lines'], many=True) "
   ]
  },
  {
   "cell_type": "code",
   "execution_count": 32,
   "metadata": {
    "ExecuteTime": {
     "end_time": "2020-04-06T14:06:20.655264Z",
     "start_time": "2020-04-06T14:06:20.612659Z"
    }
   },
   "outputs": [
    {
     "data": {
      "text/plain": [
       "[{'destination': {'fr': 'LEGRAND', 'nl': 'LEGRAND'},\n",
       "  'direction': 'Suburb',\n",
       "  'lineId': '93',\n",
       "  'points': [{'id': '5400', 'order': 1, 'stopName': ''},\n",
       "   {'id': '5402', 'order': 2, 'stopName': 'STIENON'},\n",
       "   {'id': '5399F', 'order': 3, 'stopName': 'POLYCL. BRUGMANN'},\n",
       "   {'id': '5403', 'order': 4, 'stopName': 'HOPITAL BRUGMANN'},\n",
       "   {'id': '5010', 'order': 5, 'stopName': 'GUILL. DE GREEF'},\n",
       "   {'id': '6501', 'order': 6, 'stopName': ''},\n",
       "   {'id': '6505', 'order': 7, 'stopName': ''},\n",
       "   {'id': '6504', 'order': 8, 'stopName': ''},\n",
       "   {'id': '4130F', 'order': 9, 'stopName': 'BOCKSTAEL'},\n",
       "   {'id': '6100', 'order': 10, 'stopName': 'MOORSLEDE'},\n",
       "   {'id': '6122', 'order': 11, 'stopName': 'PRINC. CLEMENTINE'},\n",
       "   {'id': '1073', 'order': 12, 'stopName': 'OUTRE-PONTS'},\n",
       "   {'id': '6103F', 'order': 13, 'stopName': 'JULES DE TROOZ'},\n",
       "   {'id': '6178', 'order': 14, 'stopName': 'MASUI'},\n",
       "   {'id': '5762', 'order': 15, 'stopName': 'THOMAS'},\n",
       "   {'id': '1646F', 'order': 16, 'stopName': 'LIEDTS'},\n",
       "   {'id': '6012G', 'order': 17, 'stopName': 'LEFRANCQ'},\n",
       "   {'id': '6412F', 'order': 18, 'stopName': 'SAINTE-MARIE'},\n",
       "   {'id': '6014', 'order': 19, 'stopName': 'GILLON'},\n",
       "   {'id': '6437F', 'order': 20, 'stopName': 'BOTANIQUE'},\n",
       "   {'id': '6308F', 'order': 21, 'stopName': 'CONGRES'},\n",
       "   {'id': '6309F', 'order': 22, 'stopName': 'PARC'},\n",
       "   {'id': '6310F', 'order': 23, 'stopName': 'PALAIS'},\n",
       "   {'id': '6311', 'order': 24, 'stopName': 'ROYALE'},\n",
       "   {'id': '6312', 'order': 25, 'stopName': 'PETIT SABLON'},\n",
       "   {'id': '6313', 'order': 26, 'stopName': 'POELAERT'},\n",
       "   {'id': '6314', 'order': 27, 'stopName': 'LOUISE'},\n",
       "   {'id': '5405', 'order': 28, 'stopName': 'STEPHANIE'},\n",
       "   {'id': '5406', 'order': 29, 'stopName': 'DEFACQZ'},\n",
       "   {'id': '5404', 'order': 30, 'stopName': 'BAILLI'},\n",
       "   {'id': '5408', 'order': 31, 'stopName': 'VLEURGAT'},\n",
       "   {'id': '5409', 'order': 32, 'stopName': 'ABBAYE'},\n",
       "   {'id': '1047F', 'order': 33, 'stopName': 'LEGRAND'}],\n",
       "  'routeType': <RouteType.TRAMWAY: 0>},\n",
       " {'destination': {'fr': 'STADE', 'nl': 'STADION'},\n",
       "  'direction': 'City',\n",
       "  'lineId': '93',\n",
       "  'points': [{'id': '1059', 'order': 1, 'stopName': 'LEGRAND'},\n",
       "   {'id': '5466', 'order': 2, 'stopName': 'ABBAYE'},\n",
       "   {'id': '5467', 'order': 3, 'stopName': 'VLEURGAT'},\n",
       "   {'id': '5475', 'order': 4, 'stopName': 'BAILLI'},\n",
       "   {'id': '5469', 'order': 5, 'stopName': 'DEFACQZ'},\n",
       "   {'id': '5470', 'order': 6, 'stopName': 'STEPHANIE'},\n",
       "   {'id': '6361', 'order': 7, 'stopName': 'LOUISE'},\n",
       "   {'id': '6352', 'order': 8, 'stopName': 'POELAERT'},\n",
       "   {'id': '6353F', 'order': 9, 'stopName': 'PETIT SABLON'},\n",
       "   {'id': '6354', 'order': 10, 'stopName': 'ROYALE'},\n",
       "   {'id': '6355F', 'order': 11, 'stopName': 'PALAIS'},\n",
       "   {'id': '6356F', 'order': 12, 'stopName': 'PARC'},\n",
       "   {'id': '6357F', 'order': 13, 'stopName': 'CONGRES'},\n",
       "   {'id': '6434F', 'order': 14, 'stopName': 'BOTANIQUE'},\n",
       "   {'id': '6359F', 'order': 15, 'stopName': 'GILLON'},\n",
       "   {'id': '6413F', 'order': 16, 'stopName': 'SAINTE-MARIE'},\n",
       "   {'id': '6066G', 'order': 17, 'stopName': 'LEFRANCQ'},\n",
       "   {'id': '1644F', 'order': 18, 'stopName': 'LIEDTS'},\n",
       "   {'id': '6177', 'order': 19, 'stopName': 'THOMAS'},\n",
       "   {'id': '6179', 'order': 20, 'stopName': 'MASUI'},\n",
       "   {'id': '6168F', 'order': 21, 'stopName': 'JULES DE TROOZ'},\n",
       "   {'id': '1076', 'order': 22, 'stopName': 'OUTRE-PONTS'},\n",
       "   {'id': '6174F', 'order': 23, 'stopName': 'PRINC. CLEMENTINE'},\n",
       "   {'id': '6171', 'order': 24, 'stopName': 'MOORSLEDE'},\n",
       "   {'id': '4126F', 'order': 25, 'stopName': 'BOCKSTAEL'},\n",
       "   {'id': '6172', 'order': 26, 'stopName': ''},\n",
       "   {'id': '6552', 'order': 27, 'stopName': ''},\n",
       "   {'id': '6553', 'order': 28, 'stopName': ''},\n",
       "   {'id': '5081F', 'order': 29, 'stopName': 'GUILL. DE GREEF'},\n",
       "   {'id': '5471', 'order': 30, 'stopName': 'HOPITAL BRUGMANN'},\n",
       "   {'id': '5398F', 'order': 31, 'stopName': 'POLYCL. BRUGMANN'},\n",
       "   {'id': '5472', 'order': 32, 'stopName': 'STIENON'},\n",
       "   {'id': '5474', 'order': 33, 'stopName': ''}],\n",
       "  'routeType': <RouteType.TRAMWAY: 0>}]"
      ]
     },
     "execution_count": 32,
     "metadata": {},
     "output_type": "execute_result"
    }
   ],
   "source": [
    "line_details_serialized = [line.to_dict() for line in lines]\n",
    "line_details_serialized"
   ]
  },
  {
   "cell_type": "code",
   "execution_count": 33,
   "metadata": {
    "ExecuteTime": {
     "end_time": "2020-04-06T14:06:20.673571Z",
     "start_time": "2020-04-06T14:06:20.661745Z"
    }
   },
   "outputs": [],
   "source": [
    "slots = {'destination_name': {'confirmation_status': 'NONE',\n",
    "'name': 'destination_name',\n",
    "'resolutions': {'resolutions_per_authority': [{'authority': 'amzn1.er-authority.echo-sdk.amzn1.ask.skill.789c381d-5f2c-469e-a888-ee60e260c9de.DESTINATION_NAME',\n",
    "'status': {'code': 'ER_SUCCESS_NO_MATCH'},\n",
    "'values': None},\n",
    "{'authority': 'amzn1.er-authority.echo-sdk.dynamic.amzn1.ask.skill.789c381d-5f2c-469e-a888-ee60e260c9de.DESTINATION_NAME',\n",
    "'status': {'code': 'ER_SUCCESS_MATCH'},\n",
    "'values': [{'value': {'id': 'VANDERKINDERE',\n",
    "'name': 'VANDERKINDERE'}}]}]},\n",
    "'value': 'vanderkindere'}, 'stop_name': {'confirmation_status': 'NONE',\n",
    "'name': 'stop_name',\n",
    "'resolutions': {'resolutions_per_authority': [{'authority': 'amzn1.er-authority.echo-sdk.amzn1.ask.skill.789c381d-5f2c-469e-a888-ee60e260c9de.STOP_NAME',\n",
    "'status': {'code': 'ER_SUCCESS_MATCH'},\n",
    "'values': [{'value': {'id': '1059',\n",
    "'name': 'LEGRAND'}}]},\n",
    "{'authority': 'amzn1.er-authority.echo-sdk.dynamic.amzn1.ask.skill.789c381d-5f2c-469e-a888-ee60e260c9de.STOP_NAME',\n",
    "'status': {'code': 'ER_SUCCESS_MATCH'},\n",
    "'values': [{'value': {'id': '1048F',\n",
    "'name': 'LEGRAND'}},\n",
    "{'value': {'id': '1049F',\n",
    "'name': 'LEGRAND'}}]}]},\n",
    "'value': 'le legrand'}}"
   ]
  },
  {
   "cell_type": "code",
   "execution_count": 129,
   "metadata": {
    "ExecuteTime": {
     "end_time": "2020-04-06T14:48:35.310026Z",
     "start_time": "2020-04-06T14:48:35.298060Z"
    }
   },
   "outputs": [],
   "source": [
    "def parse_successful_entity_resolution_results_for_slot(slot):\n",
    "    entity_resolutions ={\"values\": [], \"resolved\": ''}\n",
    "    entity_resolutions[\"resolved\"] = slot[\"value\"]\n",
    "    success_entity_resolutions= [resolution_per_authority[\"values\"]\n",
    "                                        for resolution_per_authority in \n",
    "                                slot[\"resolutions\"][\"resolutions_per_authority\"] \n",
    "                                        if resolution_per_authority[\"status\"][\"code\"]==\"ER_SUCCESS_MATCH\"]\n",
    "    flatten_success_entity_resolutions = [item for sublist in success_entity_resolutions for item in sublist]\n",
    "    entity_resolutions[\"values\"] = flatten_success_entity_resolutions\n",
    "    return entity_resolutions"
   ]
  },
  {
   "cell_type": "code",
   "execution_count": 167,
   "metadata": {
    "ExecuteTime": {
     "end_time": "2020-04-06T15:16:25.533523Z",
     "start_time": "2020-04-06T15:16:25.518309Z"
    }
   },
   "outputs": [],
   "source": [
    "def filter_correct_slot_value(success_slot_er_results,line_details_serialized, destination):\n",
    "    correct_destination_line_details = list(filter(lambda line_detail: line_detail[\"destination\"][\"fr\"] == destination_name, line_details_serialized))[-1]\n",
    "    plausible_stop_ids = [item[\"value\"][\"id\"] for item in success_slot_er_results[\"values\"]]\n",
    "    correct_slot_id = list(filter(lambda point: point[\"id\"] in plausible_stop_ids, correct_destination_line_details[\"points\"]))[-1]\n",
    "    return correct_slot_id\n",
    "    \n",
    "    "
   ]
  },
  {
   "cell_type": "code",
   "execution_count": 168,
   "metadata": {
    "ExecuteTime": {
     "end_time": "2020-04-06T15:16:28.512370Z",
     "start_time": "2020-04-06T15:16:28.498412Z"
    }
   },
   "outputs": [
    {
     "data": {
      "text/plain": [
       "{'values': [{'value': {'id': '1059', 'name': 'LEGRAND'}},\n",
       "  {'value': {'id': '1048F', 'name': 'LEGRAND'}},\n",
       "  {'value': {'id': '1049F', 'name': 'LEGRAND'}}],\n",
       " 'resolved': 'le legrand'}"
      ]
     },
     "execution_count": 168,
     "metadata": {},
     "output_type": "execute_result"
    }
   ],
   "source": [
    "success_slot_er_results"
   ]
  },
  {
   "cell_type": "code",
   "execution_count": 169,
   "metadata": {
    "ExecuteTime": {
     "end_time": "2020-04-06T15:16:28.785193Z",
     "start_time": "2020-04-06T15:16:28.767368Z"
    }
   },
   "outputs": [
    {
     "data": {
      "text/plain": [
       "{'id': '1059', 'order': 1, 'stopName': 'LEGRAND'}"
      ]
     },
     "execution_count": 169,
     "metadata": {},
     "output_type": "execute_result"
    }
   ],
   "source": [
    "destination_name = 'STADE'\n",
    "success_slot_er_results = parse_successful_entity_resolution_results_for_slot(slots['stop_name'])\n",
    "correct_slot_id = filter_correct_slot_value(success_slot_er_results,line_details_serialized,destination_name)\n",
    "correct_slot_id\n"
   ]
  },
  {
   "cell_type": "code",
   "execution_count": 170,
   "metadata": {
    "ExecuteTime": {
     "end_time": "2020-04-06T15:16:28.970976Z",
     "start_time": "2020-04-06T15:16:28.955708Z"
    }
   },
   "outputs": [],
   "source": [
    "from ask_sdk_model.er.dynamic import (\n",
    "    Entity,\n",
    "    EntityValueAndSynonyms,\n",
    "    EntityListItem,\n",
    "    UpdateBehavior,\n",
    ")"
   ]
  },
  {
   "cell_type": "code",
   "execution_count": 171,
   "metadata": {
    "ExecuteTime": {
     "end_time": "2020-04-06T15:16:29.184111Z",
     "start_time": "2020-04-06T15:16:29.163640Z"
    }
   },
   "outputs": [],
   "source": [
    "    def _build_entity_list_items_from_line_details(\n",
    "        line_details: List[LineDetails],\n",
    "    ) -> List[EntityListItem]:\n",
    "        \"\"\"\n",
    "        Create list of dynamic entity items from line details\n",
    "        \"\"\"\n",
    "        \n",
    "        points = line_details[0].points + line_details[1].points\n",
    "        destinations = [line.destination for line in line_details]\n",
    "\n",
    "        stop_entities = [Entity(id=point.id, name=EntityValueAndSynonyms(value=point.stop_name)) for point in points]\n",
    "        destination_entities = [Entity(id=destination.fr, name=EntityValueAndSynonyms(value=destination.fr)) for destination in destinations]\n",
    "        entity_list_items = [\n",
    "            EntityListItem(name=\"STOP_NAME\", values=stop_entities),\n",
    "            EntityListItem(name=\"DESTINATION_NAME\", values=destination_entities),\n",
    "        ]\n",
    "        return entity_list_items"
   ]
  },
  {
   "cell_type": "code",
   "execution_count": 173,
   "metadata": {
    "ExecuteTime": {
     "end_time": "2020-04-06T16:05:37.283593Z",
     "start_time": "2020-04-06T16:05:37.270733Z"
    }
   },
   "outputs": [
    {
     "data": {
      "text/plain": [
       "'edfc821d-aa36-486c-a268-da76828317d0'"
      ]
     },
     "execution_count": 173,
     "metadata": {},
     "output_type": "execute_result"
    }
   ],
   "source": [
    "import uuid\n",
    "str(uuid.uuid4())"
   ]
  },
  {
   "cell_type": "code",
   "execution_count": 175,
   "metadata": {
    "ExecuteTime": {
     "end_time": "2020-04-06T16:22:46.592187Z",
     "start_time": "2020-04-06T16:22:46.571139Z"
    }
   },
   "outputs": [
    {
     "data": {
      "text/plain": [
       "1"
      ]
     },
     "execution_count": 175,
     "metadata": {},
     "output_type": "execute_result"
    }
   ],
   "source": [
    "a = [1]\n",
    "a[-1]"
   ]
  },
  {
   "cell_type": "code",
   "execution_count": null,
   "metadata": {},
   "outputs": [],
   "source": []
  }
 ],
 "metadata": {
  "kernelspec": {
   "display_name": "py_37_env",
   "language": "python",
   "name": "py_37_env"
  },
  "language_info": {
   "codemirror_mode": {
    "name": "ipython",
    "version": 3
   },
   "file_extension": ".py",
   "mimetype": "text/x-python",
   "name": "python",
   "nbconvert_exporter": "python",
   "pygments_lexer": "ipython3",
   "version": "3.7.6"
  },
  "toc": {
   "base_numbering": 1,
   "nav_menu": {},
   "number_sections": true,
   "sideBar": true,
   "skip_h1_title": false,
   "title_cell": "Table of Contents",
   "title_sidebar": "Contents",
   "toc_cell": false,
   "toc_position": {},
   "toc_section_display": true,
   "toc_window_display": false
  },
  "varInspector": {
   "cols": {
    "lenName": 16,
    "lenType": 16,
    "lenVar": 40
   },
   "kernels_config": {
    "python": {
     "delete_cmd_postfix": "",
     "delete_cmd_prefix": "del ",
     "library": "var_list.py",
     "varRefreshCmd": "print(var_dic_list())"
    },
    "r": {
     "delete_cmd_postfix": ") ",
     "delete_cmd_prefix": "rm(",
     "library": "var_list.r",
     "varRefreshCmd": "cat(var_dic_list()) "
    }
   },
   "types_to_exclude": [
    "module",
    "function",
    "builtin_function_or_method",
    "instance",
    "_Feature"
   ],
   "window_display": false
  }
 },
 "nbformat": 4,
 "nbformat_minor": 2
}
