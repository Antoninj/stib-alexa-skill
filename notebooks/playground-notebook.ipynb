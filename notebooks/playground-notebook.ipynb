{
 "cells": [
  {
   "cell_type": "code",
   "execution_count": 38,
   "metadata": {
    "ExecuteTime": {
     "end_time": "2020-03-23T11:30:54.587707Z",
     "start_time": "2020-03-23T11:30:54.581334Z"
    }
   },
   "outputs": [],
   "source": [
    "import requests\n",
    "import pytz\n",
    "\n",
    "import json\n",
    "from datetime import datetime, time as datetime_time, timedelta\n",
    "\n"
   ]
  },
  {
   "cell_type": "code",
   "execution_count": 39,
   "metadata": {
    "ExecuteTime": {
     "end_time": "2020-03-23T11:30:54.708730Z",
     "start_time": "2020-03-23T11:30:54.701912Z"
    }
   },
   "outputs": [],
   "source": [
    "class BearerAuth(requests.auth.AuthBase):\n",
    "    def __init__(self, token):\n",
    "        self.token = token\n",
    "\n",
    "    def __call__(self, r):\n",
    "        r.headers[\"authorization\"] = \"Bearer \" + self.token\n",
    "        return r\n"
   ]
  },
  {
   "cell_type": "code",
   "execution_count": 53,
   "metadata": {
    "ExecuteTime": {
     "end_time": "2020-03-23T13:49:29.696194Z",
     "start_time": "2020-03-23T13:49:29.686567Z"
    }
   },
   "outputs": [],
   "source": [
    "def make_api_request(stop_id, bearer):\n",
    "    open_data_api_endpoint = \"https://opendata-api.stib-mivb.be/OperationMonitoring/4.0/PassingTimeByPoint/\" + stop_id\n",
    "    headers = {\"Accept\": \"application/json\"}\n",
    "\n",
    "    response = requests.get(open_data_api_endpoint, auth=BearerAuth(bearer))\n",
    "    \n",
    "    return response.json()"
   ]
  },
  {
   "cell_type": "code",
   "execution_count": 54,
   "metadata": {
    "ExecuteTime": {
     "end_time": "2020-03-23T13:49:30.629216Z",
     "start_time": "2020-03-23T13:49:30.622104Z"
    }
   },
   "outputs": [],
   "source": [
    "def parse_waiting_times(json_payload, destination):\n",
    "    passing_times = json_payload['points'][0]['passingTimes']\n",
    "    str_expected_arrival_times = [passing_time['expectedArrivalTime'] for passing_time in passing_times if passing_time['destination']['fr']==destination]\n",
    "    print(str_expected_arrival_times)\n",
    "    expected_arrival_times = [datetime.fromisoformat(str_expected_arrival_time) for str_expected_arrival_time in str_expected_arrival_times]\n",
    "    return expected_arrival_times "
   ]
  },
  {
   "cell_type": "code",
   "execution_count": 55,
   "metadata": {
    "ExecuteTime": {
     "end_time": "2020-03-23T13:49:31.120288Z",
     "start_time": "2020-03-23T13:49:31.113384Z"
    }
   },
   "outputs": [],
   "source": [
    "def compute_time_diff(start, end):\n",
    "    if isinstance(start, datetime_time): # convert to datetime\n",
    "        assert isinstance(end, datetime_time)\n",
    "        start, end = [datetime.combine(datetime.min, t) for t in [start, end]]\n",
    "    if start <= end: # e.g., 10:33:26-11:15:49\n",
    "        return end - start\n",
    "    else: # end < start e.g., 23:55:00-00:25:00\n",
    "        end += timedelta(1) # +day\n",
    "        assert end > start\n",
    "        return end - start"
   ]
  },
  {
   "cell_type": "code",
   "execution_count": 57,
   "metadata": {
    "ExecuteTime": {
     "end_time": "2020-03-23T13:50:11.687181Z",
     "start_time": "2020-03-23T13:50:11.484174Z"
    }
   },
   "outputs": [],
   "source": [
    "legrand_stop_id = \"1047\"\n",
    "bearer = '92933b65187eb1ac049b9132c1afa7cc'\n",
    "response = make_api_request(legrand_stop_id, bearer)\n"
   ]
  },
  {
   "cell_type": "code",
   "execution_count": 58,
   "metadata": {
    "ExecuteTime": {
     "end_time": "2020-03-23T13:50:12.183630Z",
     "start_time": "2020-03-23T13:50:12.176255Z"
    }
   },
   "outputs": [
    {
     "name": "stdout",
     "output_type": "stream",
     "text": [
      "['2020-03-23T15:24:00+01:00']\n",
      "0:33:47.819793\n"
     ]
    }
   ],
   "source": [
    "expected_arrival_times = parse_waiting_times(response, 'ROODEBEEK' )\n",
    "\n",
    "current_time_utc = datetime.utcnow()\n",
    "current_time_be = pytz.utc.localize(current_time_utc)\n",
    "tram_arrival_time = expected_arrival_times[0]\n",
    "\n",
    "waiting_time = compute_time_diff(current_time_be, tram_arrival_time)\n",
    "print(waiting_time)"
   ]
  },
  {
   "cell_type": "code",
   "execution_count": null,
   "metadata": {},
   "outputs": [],
   "source": []
  },
  {
   "cell_type": "code",
   "execution_count": null,
   "metadata": {},
   "outputs": [],
   "source": []
  }
 ],
 "metadata": {
  "kernelspec": {
   "display_name": "py_37_env",
   "language": "python",
   "name": "py_37_env"
  },
  "language_info": {
   "codemirror_mode": {
    "name": "ipython",
    "version": 3
   },
   "file_extension": ".py",
   "mimetype": "text/x-python",
   "name": "python",
   "nbconvert_exporter": "python",
   "pygments_lexer": "ipython3",
   "version": "3.7.6"
  },
  "toc": {
   "base_numbering": 1,
   "nav_menu": {},
   "number_sections": true,
   "sideBar": true,
   "skip_h1_title": false,
   "title_cell": "Table of Contents",
   "title_sidebar": "Contents",
   "toc_cell": false,
   "toc_position": {},
   "toc_section_display": true,
   "toc_window_display": false
  },
  "varInspector": {
   "cols": {
    "lenName": 16,
    "lenType": 16,
    "lenVar": 40
   },
   "kernels_config": {
    "python": {
     "delete_cmd_postfix": "",
     "delete_cmd_prefix": "del ",
     "library": "var_list.py",
     "varRefreshCmd": "print(var_dic_list())"
    },
    "r": {
     "delete_cmd_postfix": ") ",
     "delete_cmd_prefix": "rm(",
     "library": "var_list.r",
     "varRefreshCmd": "cat(var_dic_list()) "
    }
   },
   "types_to_exclude": [
    "module",
    "function",
    "builtin_function_or_method",
    "instance",
    "_Feature"
   ],
   "window_display": false
  }
 },
 "nbformat": 4,
 "nbformat_minor": 2
}
