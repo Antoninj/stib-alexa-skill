{
 "cells": [
  {
   "cell_type": "code",
   "execution_count": 8,
   "metadata": {
    "ExecuteTime": {
     "end_time": "2020-03-28T11:06:47.008545Z",
     "start_time": "2020-03-28T11:06:46.994750Z"
    }
   },
   "outputs": [],
   "source": [
    "import requests\n",
    "import pytz\n",
    "\n",
    "import json\n",
    "from datetime import datetime, time as datetime_time, timedelta\n",
    "import calendar\n"
   ]
  },
  {
   "cell_type": "code",
   "execution_count": 9,
   "metadata": {
    "ExecuteTime": {
     "end_time": "2020-03-28T11:06:47.037596Z",
     "start_time": "2020-03-28T11:06:47.022217Z"
    }
   },
   "outputs": [],
   "source": [
    "class BearerAuth(requests.auth.AuthBase):\n",
    "    def __init__(self, token):\n",
    "        self.token = token\n",
    "\n",
    "    def __call__(self, r):\n",
    "        r.headers[\"authorization\"] = \"Bearer \" + self.token\n",
    "        return r\n"
   ]
  },
  {
   "cell_type": "code",
   "execution_count": 10,
   "metadata": {
    "ExecuteTime": {
     "end_time": "2020-03-28T11:06:47.058337Z",
     "start_time": "2020-03-28T11:06:47.045290Z"
    }
   },
   "outputs": [],
   "source": [
    "def make_api_request(stop_id, bearer):\n",
    "    open_data_api_endpoint = \"https://opendata-api.stib-mivb.be/OperationMonitoring/4.0/PassingTimeByPoint/\" + stop_id\n",
    "    headers = {\"Accept\": \"application/json\"}\n",
    "\n",
    "    response = requests.get(open_data_api_endpoint, auth=BearerAuth(bearer))\n",
    "    \n",
    "    return response.json()"
   ]
  },
  {
   "cell_type": "code",
   "execution_count": 11,
   "metadata": {
    "ExecuteTime": {
     "end_time": "2020-03-28T11:06:47.083067Z",
     "start_time": "2020-03-28T11:06:47.070434Z"
    }
   },
   "outputs": [],
   "source": [
    "def parse_waiting_times(json_payload, destination):\n",
    "    passing_times = json_payload['points'][0]['passingTimes']\n",
    "    str_expected_arrival_times = [passing_time['expectedArrivalTime'] for passing_time in passing_times if passing_time['destination']['fr']==destination]\n",
    "    print(str_expected_arrival_times)\n",
    "    expected_arrival_times = [datetime.fromisoformat(str_expected_arrival_time) for str_expected_arrival_time in str_expected_arrival_times]\n",
    "    return expected_arrival_times "
   ]
  },
  {
   "cell_type": "code",
   "execution_count": 12,
   "metadata": {
    "ExecuteTime": {
     "end_time": "2020-03-28T11:06:47.108208Z",
     "start_time": "2020-03-28T11:06:47.090387Z"
    }
   },
   "outputs": [],
   "source": [
    "def compute_time_diff(start, end):\n",
    "    if isinstance(start, datetime_time): # convert to datetime\n",
    "        assert isinstance(end, datetime_time)\n",
    "        start, end = [datetime.combine(datetime.min, t) for t in [start, end]]\n",
    "    if start <= end: # e.g., 10:33:26-11:15:49\n",
    "        return end - start\n",
    "    else: # end < start e.g., 23:55:00-00:25:00\n",
    "        end += timedelta(1) # +day\n",
    "        assert end > start\n",
    "        return end - start"
   ]
  },
  {
   "cell_type": "code",
   "execution_count": 40,
   "metadata": {
    "ExecuteTime": {
     "end_time": "2020-03-28T11:20:07.130489Z",
     "start_time": "2020-03-28T11:20:07.119534Z"
    }
   },
   "outputs": [],
   "source": [
    "from datetime import datetime, time as datetime_time, timedelta\n",
    "import pytz\n",
    "\n",
    "\n",
    "class TimeUtils:\n",
    "\n",
    "    @staticmethod\n",
    "    def get_current_localized_time():\n",
    "        current_time_utc = datetime.utcnow()\n",
    "        return pytz.utc.localize(current_time_utc)\n",
    "\n",
    "    @staticmethod\n",
    "    def compute_time_diff(start, end):\n",
    "        if isinstance(start, datetime_time): # convert to datetime\n",
    "            assert isinstance(end, datetime_time)\n",
    "            start, end = [datetime.combine(datetime.min, t) for t in [start, end]]\n",
    "        if start <= end: # e.g., 10:33:26-11:15:49\n",
    "            return TimeUtils._convert_timedelta(end - start)\n",
    "        else: # end < start e.g., 23:55:00-00:25:00\n",
    "            end += timedelta(1) # +day\n",
    "            assert end > start\n",
    "            return TimeUtils._convert_timedelta(end - start)\n",
    "\n",
    "    @staticmethod\n",
    "    def _convert_timedelta(duration):\n",
    "        duration_dict = {}\n",
    "        days, seconds = duration.days, duration.seconds\n",
    "        duration_dict['days'] = days\n",
    "        hours = seconds // 3600\n",
    "        minutes = (seconds % 3600) // 60\n",
    "        seconds = (seconds % 60)\n",
    "        duration_dict['hours'] = hours\n",
    "        duration_dict['minutes'] = minutes\n",
    "        duration_dict['seconds'] = seconds\n",
    "\n",
    "        return duration_dict\n"
   ]
  },
  {
   "cell_type": "code",
   "execution_count": 41,
   "metadata": {
    "ExecuteTime": {
     "end_time": "2020-03-28T11:20:07.633241Z",
     "start_time": "2020-03-28T11:20:07.606418Z"
    }
   },
   "outputs": [],
   "source": [
    "from dataclasses import dataclass, field\n",
    "from typing import List, Optional, Any\n",
    "\n",
    "from dataclasses_json import dataclass_json, config, LetterCase\n",
    "\n",
    "from datetime import datetime\n",
    "\n",
    "@dataclass_json(letter_case=LetterCase.CAMEL)\n",
    "@dataclass\n",
    "class Message:\n",
    "    fr: str = \"\"\n",
    "    nl: str = \"\"\n",
    "        \n",
    "@dataclass_json(letter_case=LetterCase.CAMEL)\n",
    "@dataclass\n",
    "class Destination:\n",
    "    fr: str = \"\"\n",
    "    nl: str = \"\"\n",
    "\n",
    "@dataclass_json(letter_case=LetterCase.CAMEL)\n",
    "@dataclass\n",
    "class PassingTime:\n",
    "    destination: Optional[Destination] = None\n",
    "    message: Optional[Message] = None\n",
    "    line_id: str = \"\"\n",
    "    expected_arrival_time: str = \"\"\n",
    "    arriving_in_dict: dict = field(init=False, repr=False)\n",
    "        \n",
    "    def __post_init__(self):\n",
    "        self.expected_arrival_time = datetime.fromisoformat(self.expected_arrival_time)\n",
    "        current_localized_time = TimeUtils.get_current_localized_time()\n",
    "        self.arriving_in_dict = TimeUtils.compute_time_diff(current_localized_time, self.expected_arrival_time)\n",
    "\n",
    "\n",
    "    def __str__(self):\n",
    "        return f'{self.arriving_in_dict}'\n",
    "\n",
    "        \n",
    "\n",
    "@dataclass_json(letter_case=LetterCase.CAMEL)\n",
    "@dataclass\n",
    "class PointPassingTimes:\n",
    "    passing_times: List[PassingTime] = field(default_factory=list)\n",
    "    point_id: str = \"\"\n",
    "\n"
   ]
  },
  {
   "cell_type": "code",
   "execution_count": 51,
   "metadata": {
    "ExecuteTime": {
     "end_time": "2020-03-28T12:44:17.121470Z",
     "start_time": "2020-03-28T12:44:16.852177Z"
    }
   },
   "outputs": [
    {
     "data": {
      "text/plain": [
       "{'points': [{'passingTimes': [{'destination': {'fr': 'BOCKSTAEL',\n",
       "      'nl': 'BOCKSTAEL'},\n",
       "     'expectedArrivalTime': '2020-03-28T14:21:00+01:00',\n",
       "     'lineId': '93'}],\n",
       "   'pointId': '1059'}]}"
      ]
     },
     "execution_count": 51,
     "metadata": {},
     "output_type": "execute_result"
    }
   ],
   "source": [
    "legrand_stop_id = \"1059\"\n",
    "bearer = '37ea5c32ad393fb55e387ebb72f17175'\n",
    "response = make_api_request(legrand_stop_id, bearer)\n",
    "response"
   ]
  },
  {
   "cell_type": "code",
   "execution_count": 50,
   "metadata": {
    "ExecuteTime": {
     "end_time": "2020-03-28T12:12:48.717354Z",
     "start_time": "2020-03-28T12:12:48.697064Z"
    }
   },
   "outputs": [
    {
     "data": {
      "text/plain": [
       "[PointPassingTimes(passing_times=[PassingTime(destination=Destination(fr='BOCKSTAEL', nl='BOCKSTAEL'), message=None, line_id='93', expected_arrival_time=datetime.datetime(2020, 3, 28, 12, 26, tzinfo=datetime.timezone(datetime.timedelta(seconds=3600)))), PassingTime(destination=Destination(fr='BOCKSTAEL', nl='BOCKSTAEL'), message=None, line_id='93', expected_arrival_time=datetime.datetime(2020, 3, 28, 12, 56, tzinfo=datetime.timezone(datetime.timedelta(seconds=3600))))], point_id='1059')]"
      ]
     },
     "execution_count": 50,
     "metadata": {},
     "output_type": "execute_result"
    }
   ],
   "source": [
    "passages = PointPassingTimes.schema().load(response['points'], many=True) \n",
    "\n",
    "passages"
   ]
  },
  {
   "cell_type": "code",
   "execution_count": 44,
   "metadata": {
    "ExecuteTime": {
     "end_time": "2020-03-28T11:20:13.365563Z",
     "start_time": "2020-03-28T11:20:13.349370Z"
    }
   },
   "outputs": [
    {
     "name": "stdout",
     "output_type": "stream",
     "text": [
      "[]\n"
     ]
    },
    {
     "ename": "IndexError",
     "evalue": "list index out of range",
     "output_type": "error",
     "traceback": [
      "\u001b[0;31m---------------------------------------------------------------------------\u001b[0m",
      "\u001b[0;31mIndexError\u001b[0m                                Traceback (most recent call last)",
      "\u001b[0;32m<ipython-input-44-a06f63d83d8e>\u001b[0m in \u001b[0;36m<module>\u001b[0;34m\u001b[0m\n\u001b[1;32m      3\u001b[0m \u001b[0mcurrent_time_utc\u001b[0m \u001b[0;34m=\u001b[0m \u001b[0mdatetime\u001b[0m\u001b[0;34m.\u001b[0m\u001b[0mutcnow\u001b[0m\u001b[0;34m(\u001b[0m\u001b[0;34m)\u001b[0m\u001b[0;34m\u001b[0m\u001b[0;34m\u001b[0m\u001b[0m\n\u001b[1;32m      4\u001b[0m \u001b[0mcurrent_time_be\u001b[0m \u001b[0;34m=\u001b[0m \u001b[0mpytz\u001b[0m\u001b[0;34m.\u001b[0m\u001b[0mutc\u001b[0m\u001b[0;34m.\u001b[0m\u001b[0mlocalize\u001b[0m\u001b[0;34m(\u001b[0m\u001b[0mcurrent_time_utc\u001b[0m\u001b[0;34m)\u001b[0m\u001b[0;34m\u001b[0m\u001b[0;34m\u001b[0m\u001b[0m\n\u001b[0;32m----> 5\u001b[0;31m \u001b[0mtram_arrival_time\u001b[0m \u001b[0;34m=\u001b[0m \u001b[0mexpected_arrival_times\u001b[0m\u001b[0;34m[\u001b[0m\u001b[0;36m0\u001b[0m\u001b[0;34m]\u001b[0m\u001b[0;34m\u001b[0m\u001b[0;34m\u001b[0m\u001b[0m\n\u001b[0m\u001b[1;32m      6\u001b[0m \u001b[0;34m\u001b[0m\u001b[0m\n\u001b[1;32m      7\u001b[0m \u001b[0mwaiting_time\u001b[0m \u001b[0;34m=\u001b[0m \u001b[0mcompute_time_diff\u001b[0m\u001b[0;34m(\u001b[0m\u001b[0mcurrent_time_be\u001b[0m\u001b[0;34m,\u001b[0m \u001b[0mtram_arrival_time\u001b[0m\u001b[0;34m)\u001b[0m\u001b[0;34m\u001b[0m\u001b[0;34m\u001b[0m\u001b[0m\n",
      "\u001b[0;31mIndexError\u001b[0m: list index out of range"
     ]
    }
   ],
   "source": [
    "expected_arrival_times = parse_waiting_times(response, 'ROODEBEEK' )\n",
    "\n",
    "current_time_utc = datetime.utcnow()\n",
    "current_time_be = pytz.utc.localize(current_time_utc)\n",
    "tram_arrival_time = expected_arrival_times[0]\n",
    "\n",
    "waiting_time = compute_time_diff(current_time_be, tram_arrival_time)\n",
    "print(waiting_time)\n"
   ]
  },
  {
   "cell_type": "code",
   "execution_count": null,
   "metadata": {
    "ExecuteTime": {
     "end_time": "2020-03-28T11:06:47.474709Z",
     "start_time": "2020-03-28T11:06:47.014Z"
    }
   },
   "outputs": [],
   "source": [
    "def convert_timedelta(duration):\n",
    "    days, seconds = duration.days, duration.seconds\n",
    "    hours = seconds // 3600\n",
    "    minutes = (seconds % 3600) // 60\n",
    "    seconds = (seconds % 60)\n",
    "    return days, hours, minutes, seconds"
   ]
  },
  {
   "cell_type": "code",
   "execution_count": null,
   "metadata": {
    "ExecuteTime": {
     "end_time": "2020-03-28T11:06:47.491708Z",
     "start_time": "2020-03-28T11:06:47.017Z"
    }
   },
   "outputs": [],
   "source": [
    "formatted_waiting_time = convert_timedelta(waiting_time)"
   ]
  },
  {
   "cell_type": "code",
   "execution_count": null,
   "metadata": {
    "ExecuteTime": {
     "end_time": "2020-03-28T11:06:47.501961Z",
     "start_time": "2020-03-28T11:06:47.019Z"
    }
   },
   "outputs": [],
   "source": [
    "formatted_waiting_time"
   ]
  },
  {
   "cell_type": "code",
   "execution_count": null,
   "metadata": {
    "ExecuteTime": {
     "end_time": "2020-03-28T11:06:47.530164Z",
     "start_time": "2020-03-28T11:06:47.021Z"
    }
   },
   "outputs": [],
   "source": [
    "def compute_token_expiration_date(token_validity_time):\n",
    "    now = datetime.utcnow()\n",
    "    future = now + timedelta(seconds=token_validity_time)\n",
    "    return calendar.timegm(future.utctimetuple())"
   ]
  },
  {
   "cell_type": "code",
   "execution_count": null,
   "metadata": {
    "ExecuteTime": {
     "end_time": "2020-03-28T11:06:47.537995Z",
     "start_time": "2020-03-28T11:06:47.023Z"
    }
   },
   "outputs": [],
   "source": [
    "token_expiration_date = compute_token_expiration_date(10)"
   ]
  },
  {
   "cell_type": "code",
   "execution_count": null,
   "metadata": {
    "ExecuteTime": {
     "end_time": "2020-03-28T11:06:47.545461Z",
     "start_time": "2020-03-28T11:06:47.026Z"
    }
   },
   "outputs": [],
   "source": [
    "def is_token_expired(token_expiration_date):\n",
    "    current_time = datetime.now()\n",
    "    unix_timestamp = current_time.timestamp()\n",
    "    return unix_timestamp > token_expiration_date"
   ]
  },
  {
   "cell_type": "code",
   "execution_count": null,
   "metadata": {
    "ExecuteTime": {
     "end_time": "2020-03-28T11:06:47.561855Z",
     "start_time": "2020-03-28T11:06:47.028Z"
    }
   },
   "outputs": [],
   "source": [
    "test = is_token_expired(token_expiration_date)\n",
    "test"
   ]
  },
  {
   "cell_type": "code",
   "execution_count": null,
   "metadata": {
    "ExecuteTime": {
     "end_time": "2020-03-28T11:06:47.576710Z",
     "start_time": "2020-03-28T11:06:47.030Z"
    }
   },
   "outputs": [],
   "source": [
    "def get_shapefiles()\n",
    "    open_data_api_endpoint = \"https://opendata-api.stib-mivb.be/Files/2.0/Shapefiles\" + stop_id\n",
    "    headers = {\"Accept\": \"application/json\"}\n",
    "\n",
    "    response = requests.get(open_data_api_endpoint, auth=BearerAuth(bearer))\n",
    "    \n",
    "    return response.json()"
   ]
  },
  {
   "cell_type": "code",
   "execution_count": 49,
   "metadata": {
    "ExecuteTime": {
     "end_time": "2020-03-28T12:06:38.619967Z",
     "start_time": "2020-03-28T12:06:38.611649Z"
    }
   },
   "outputs": [
    {
     "data": {
      "text/plain": [
       "[1]"
      ]
     },
     "execution_count": 49,
     "metadata": {},
     "output_type": "execute_result"
    }
   ],
   "source": [
    "a = [1,2]\n",
    "a[:1]"
   ]
  },
  {
   "cell_type": "code",
   "execution_count": null,
   "metadata": {},
   "outputs": [],
   "source": []
  }
 ],
 "metadata": {
  "kernelspec": {
   "display_name": "py_37_env",
   "language": "python",
   "name": "py_37_env"
  },
  "language_info": {
   "codemirror_mode": {
    "name": "ipython",
    "version": 3
   },
   "file_extension": ".py",
   "mimetype": "text/x-python",
   "name": "python",
   "nbconvert_exporter": "python",
   "pygments_lexer": "ipython3",
   "version": "3.7.6"
  },
  "toc": {
   "base_numbering": 1,
   "nav_menu": {},
   "number_sections": true,
   "sideBar": true,
   "skip_h1_title": false,
   "title_cell": "Table of Contents",
   "title_sidebar": "Contents",
   "toc_cell": false,
   "toc_position": {},
   "toc_section_display": true,
   "toc_window_display": false
  },
  "varInspector": {
   "cols": {
    "lenName": 16,
    "lenType": 16,
    "lenVar": 40
   },
   "kernels_config": {
    "python": {
     "delete_cmd_postfix": "",
     "delete_cmd_prefix": "del ",
     "library": "var_list.py",
     "varRefreshCmd": "print(var_dic_list())"
    },
    "r": {
     "delete_cmd_postfix": ") ",
     "delete_cmd_prefix": "rm(",
     "library": "var_list.r",
     "varRefreshCmd": "cat(var_dic_list()) "
    }
   },
   "types_to_exclude": [
    "module",
    "function",
    "builtin_function_or_method",
    "instance",
    "_Feature"
   ],
   "window_display": false
  }
 },
 "nbformat": 4,
 "nbformat_minor": 2
}
