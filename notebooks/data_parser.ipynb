{
 "cells": [
  {
   "cell_type": "code",
   "execution_count": 2,
   "metadata": {
    "ExecuteTime": {
     "end_time": "2020-03-30T15:23:32.022462Z",
     "start_time": "2020-03-30T15:23:18.709188Z"
    }
   },
   "outputs": [],
   "source": [
    "import pandas as pd"
   ]
  },
  {
   "cell_type": "code",
   "execution_count": 3,
   "metadata": {
    "ExecuteTime": {
     "end_time": "2020-03-30T15:24:34.430192Z",
     "start_time": "2020-03-30T15:24:34.414354Z"
    }
   },
   "outputs": [],
   "source": [
    "datapath = \"gtfs/stops.txt\""
   ]
  },
  {
   "cell_type": "code",
   "execution_count": 7,
   "metadata": {
    "ExecuteTime": {
     "end_time": "2020-03-30T15:24:47.767240Z",
     "start_time": "2020-03-30T15:24:47.746010Z"
    }
   },
   "outputs": [],
   "source": [
    "df = pd.read_csv(datapath)"
   ]
  },
  {
   "cell_type": "code",
   "execution_count": 8,
   "metadata": {
    "ExecuteTime": {
     "end_time": "2020-03-30T15:24:47.955287Z",
     "start_time": "2020-03-30T15:24:47.900900Z"
    }
   },
   "outputs": [
    {
     "data": {
      "text/html": [
       "<div>\n",
       "<style scoped>\n",
       "    .dataframe tbody tr th:only-of-type {\n",
       "        vertical-align: middle;\n",
       "    }\n",
       "\n",
       "    .dataframe tbody tr th {\n",
       "        vertical-align: top;\n",
       "    }\n",
       "\n",
       "    .dataframe thead th {\n",
       "        text-align: right;\n",
       "    }\n",
       "</style>\n",
       "<table border=\"1\" class=\"dataframe\">\n",
       "  <thead>\n",
       "    <tr style=\"text-align: right;\">\n",
       "      <th></th>\n",
       "      <th>stop_id</th>\n",
       "      <th>stop_code</th>\n",
       "      <th>stop_name</th>\n",
       "      <th>stop_desc</th>\n",
       "      <th>stop_lat</th>\n",
       "      <th>stop_lon</th>\n",
       "      <th>zone_id</th>\n",
       "      <th>stop_url</th>\n",
       "      <th>location_type</th>\n",
       "      <th>parent_station</th>\n",
       "    </tr>\n",
       "  </thead>\n",
       "  <tbody>\n",
       "    <tr>\n",
       "      <th>0</th>\n",
       "      <td>0089</td>\n",
       "      <td>NaN</td>\n",
       "      <td>MONTGOMERY</td>\n",
       "      <td>NaN</td>\n",
       "      <td>50.838006</td>\n",
       "      <td>4.408970</td>\n",
       "      <td>NaN</td>\n",
       "      <td>NaN</td>\n",
       "      <td>0</td>\n",
       "      <td>37.0</td>\n",
       "    </tr>\n",
       "    <tr>\n",
       "      <th>1</th>\n",
       "      <td>0470F</td>\n",
       "      <td>NaN</td>\n",
       "      <td>SIMONIS</td>\n",
       "      <td>NaN</td>\n",
       "      <td>50.863666</td>\n",
       "      <td>4.329612</td>\n",
       "      <td>NaN</td>\n",
       "      <td>NaN</td>\n",
       "      <td>0</td>\n",
       "      <td>NaN</td>\n",
       "    </tr>\n",
       "    <tr>\n",
       "      <th>2</th>\n",
       "      <td>0471</td>\n",
       "      <td>NaN</td>\n",
       "      <td>SIMONIS</td>\n",
       "      <td>NaN</td>\n",
       "      <td>50.863732</td>\n",
       "      <td>4.329236</td>\n",
       "      <td>NaN</td>\n",
       "      <td>NaN</td>\n",
       "      <td>0</td>\n",
       "      <td>53.0</td>\n",
       "    </tr>\n",
       "    <tr>\n",
       "      <th>3</th>\n",
       "      <td>0472</td>\n",
       "      <td>NaN</td>\n",
       "      <td>SIMONIS</td>\n",
       "      <td>NaN</td>\n",
       "      <td>50.863543</td>\n",
       "      <td>4.329023</td>\n",
       "      <td>NaN</td>\n",
       "      <td>NaN</td>\n",
       "      <td>0</td>\n",
       "      <td>53.0</td>\n",
       "    </tr>\n",
       "    <tr>\n",
       "      <th>4</th>\n",
       "      <td>0473F</td>\n",
       "      <td>NaN</td>\n",
       "      <td>SIMONIS</td>\n",
       "      <td>NaN</td>\n",
       "      <td>50.863418</td>\n",
       "      <td>4.330031</td>\n",
       "      <td>NaN</td>\n",
       "      <td>NaN</td>\n",
       "      <td>0</td>\n",
       "      <td>NaN</td>\n",
       "    </tr>\n",
       "    <tr>\n",
       "      <th>...</th>\n",
       "      <td>...</td>\n",
       "      <td>...</td>\n",
       "      <td>...</td>\n",
       "      <td>...</td>\n",
       "      <td>...</td>\n",
       "      <td>...</td>\n",
       "      <td>...</td>\n",
       "      <td>...</td>\n",
       "      <td>...</td>\n",
       "      <td>...</td>\n",
       "    </tr>\n",
       "    <tr>\n",
       "      <th>2790</th>\n",
       "      <td>34</td>\n",
       "      <td>NaN</td>\n",
       "      <td>TOMBERG</td>\n",
       "      <td>NaN</td>\n",
       "      <td>50.844316</td>\n",
       "      <td>4.425819</td>\n",
       "      <td>NaN</td>\n",
       "      <td>NaN</td>\n",
       "      <td>1</td>\n",
       "      <td>NaN</td>\n",
       "    </tr>\n",
       "    <tr>\n",
       "      <th>2791</th>\n",
       "      <td>44</td>\n",
       "      <td>NaN</td>\n",
       "      <td>TRONE</td>\n",
       "      <td>NaN</td>\n",
       "      <td>50.840813</td>\n",
       "      <td>4.366354</td>\n",
       "      <td>NaN</td>\n",
       "      <td>NaN</td>\n",
       "      <td>1</td>\n",
       "      <td>NaN</td>\n",
       "    </tr>\n",
       "    <tr>\n",
       "      <th>2792</th>\n",
       "      <td>32</td>\n",
       "      <td>NaN</td>\n",
       "      <td>VANDERVELDE</td>\n",
       "      <td>NaN</td>\n",
       "      <td>50.847387</td>\n",
       "      <td>4.446705</td>\n",
       "      <td>NaN</td>\n",
       "      <td>NaN</td>\n",
       "      <td>1</td>\n",
       "      <td>NaN</td>\n",
       "    </tr>\n",
       "    <tr>\n",
       "      <th>2793</th>\n",
       "      <td>6</td>\n",
       "      <td>NaN</td>\n",
       "      <td>VEEWEYDE</td>\n",
       "      <td>NaN</td>\n",
       "      <td>50.829391</td>\n",
       "      <td>4.300578</td>\n",
       "      <td>NaN</td>\n",
       "      <td>NaN</td>\n",
       "      <td>1</td>\n",
       "      <td>NaN</td>\n",
       "    </tr>\n",
       "    <tr>\n",
       "      <th>2794</th>\n",
       "      <td>40</td>\n",
       "      <td>NaN</td>\n",
       "      <td>YSER</td>\n",
       "      <td>NaN</td>\n",
       "      <td>50.857225</td>\n",
       "      <td>4.351502</td>\n",
       "      <td>NaN</td>\n",
       "      <td>NaN</td>\n",
       "      <td>1</td>\n",
       "      <td>NaN</td>\n",
       "    </tr>\n",
       "  </tbody>\n",
       "</table>\n",
       "<p>2795 rows × 10 columns</p>\n",
       "</div>"
      ],
      "text/plain": [
       "     stop_id  stop_code    stop_name  stop_desc   stop_lat  stop_lon  zone_id  \\\n",
       "0       0089        NaN   MONTGOMERY        NaN  50.838006  4.408970      NaN   \n",
       "1      0470F        NaN      SIMONIS        NaN  50.863666  4.329612      NaN   \n",
       "2       0471        NaN      SIMONIS        NaN  50.863732  4.329236      NaN   \n",
       "3       0472        NaN      SIMONIS        NaN  50.863543  4.329023      NaN   \n",
       "4      0473F        NaN      SIMONIS        NaN  50.863418  4.330031      NaN   \n",
       "...      ...        ...          ...        ...        ...       ...      ...   \n",
       "2790      34        NaN      TOMBERG        NaN  50.844316  4.425819      NaN   \n",
       "2791      44        NaN        TRONE        NaN  50.840813  4.366354      NaN   \n",
       "2792      32        NaN  VANDERVELDE        NaN  50.847387  4.446705      NaN   \n",
       "2793       6        NaN     VEEWEYDE        NaN  50.829391  4.300578      NaN   \n",
       "2794      40        NaN         YSER        NaN  50.857225  4.351502      NaN   \n",
       "\n",
       "      stop_url  location_type  parent_station  \n",
       "0          NaN              0            37.0  \n",
       "1          NaN              0             NaN  \n",
       "2          NaN              0            53.0  \n",
       "3          NaN              0            53.0  \n",
       "4          NaN              0             NaN  \n",
       "...        ...            ...             ...  \n",
       "2790       NaN              1             NaN  \n",
       "2791       NaN              1             NaN  \n",
       "2792       NaN              1             NaN  \n",
       "2793       NaN              1             NaN  \n",
       "2794       NaN              1             NaN  \n",
       "\n",
       "[2795 rows x 10 columns]"
      ]
     },
     "execution_count": 8,
     "metadata": {},
     "output_type": "execute_result"
    }
   ],
   "source": [
    "df"
   ]
  },
  {
   "cell_type": "code",
   "execution_count": null,
   "metadata": {},
   "outputs": [],
   "source": []
  }
 ],
 "metadata": {
  "kernelspec": {
   "display_name": "py_37_env",
   "language": "python",
   "name": "py_37_env"
  },
  "language_info": {
   "codemirror_mode": {
    "name": "ipython",
    "version": 3
   },
   "file_extension": ".py",
   "mimetype": "text/x-python",
   "name": "python",
   "nbconvert_exporter": "python",
   "pygments_lexer": "ipython3",
   "version": "3.7.6"
  },
  "toc": {
   "base_numbering": 1,
   "nav_menu": {},
   "number_sections": true,
   "sideBar": true,
   "skip_h1_title": false,
   "title_cell": "Table of Contents",
   "title_sidebar": "Contents",
   "toc_cell": false,
   "toc_position": {},
   "toc_section_display": true,
   "toc_window_display": false
  },
  "varInspector": {
   "cols": {
    "lenName": 16,
    "lenType": 16,
    "lenVar": 40
   },
   "kernels_config": {
    "python": {
     "delete_cmd_postfix": "",
     "delete_cmd_prefix": "del ",
     "library": "var_list.py",
     "varRefreshCmd": "print(var_dic_list())"
    },
    "r": {
     "delete_cmd_postfix": ") ",
     "delete_cmd_prefix": "rm(",
     "library": "var_list.r",
     "varRefreshCmd": "cat(var_dic_list()) "
    }
   },
   "types_to_exclude": [
    "module",
    "function",
    "builtin_function_or_method",
    "instance",
    "_Feature"
   ],
   "window_display": false
  }
 },
 "nbformat": 4,
 "nbformat_minor": 2
}
