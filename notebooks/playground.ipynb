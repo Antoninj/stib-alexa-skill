{
 "cells": [
  {
   "cell_type": "code",
   "execution_count": 116,
   "metadata": {
    "ExecuteTime": {
     "end_time": "2020-04-04T13:05:21.680387Z",
     "start_time": "2020-04-04T13:05:21.657419Z"
    },
    "pycharm": {
     "is_executing": false
    }
   },
   "outputs": [],
   "source": [
    "import requests\n",
    "import pytz\n",
    "import json\n",
    "from datetime import datetime, time as datetime_time, timedelta\n",
    "import calendar\n",
    "import pandas as pd\n"
   ]
  },
  {
   "cell_type": "code",
   "execution_count": 117,
   "metadata": {
    "ExecuteTime": {
     "end_time": "2020-04-04T13:05:21.705668Z",
     "start_time": "2020-04-04T13:05:21.688668Z"
    },
    "pycharm": {
     "is_executing": false
    }
   },
   "outputs": [],
   "source": [
    "class BearerAuth(requests.auth.AuthBase):\n",
    "    def __init__(self, token):\n",
    "        self.token = token\n",
    "\n",
    "    def __call__(self, r):\n",
    "        r.headers[\"authorization\"] = \"Bearer \" + self.token\n",
    "        return r\n"
   ]
  },
  {
   "cell_type": "code",
   "execution_count": 118,
   "metadata": {
    "ExecuteTime": {
     "end_time": "2020-04-04T13:05:21.728998Z",
     "start_time": "2020-04-04T13:05:21.715428Z"
    },
    "pycharm": {
     "is_executing": false
    }
   },
   "outputs": [],
   "source": [
    "def make_api_request(stop_id, bearer):\n",
    "    open_data_api_endpoint = \"https://opendata-api.stib-mivb.be/OperationMonitoring/4.0/PassingTimeByPoint/\" + stop_id\n",
    "    headers = {\"Accept\": \"application/json\"}\n",
    "\n",
    "    response = requests.get(open_data_api_endpoint, auth=BearerAuth(bearer))\n",
    "    \n",
    "    return response.json()"
   ]
  },
  {
   "cell_type": "code",
   "execution_count": 119,
   "metadata": {
    "ExecuteTime": {
     "end_time": "2020-04-04T13:05:21.744694Z",
     "start_time": "2020-04-04T13:05:21.732889Z"
    },
    "pycharm": {
     "is_executing": false
    }
   },
   "outputs": [],
   "source": [
    "def parse_waiting_times(json_payload, destination):\n",
    "    passing_times = json_payload['points'][0]['passingTimes']\n",
    "    str_expected_arrival_times = [passing_time['expectedArrivalTime'] for passing_time in passing_times if passing_time['destination']['fr']==destination]\n",
    "    print(str_expected_arrival_times)\n",
    "    expected_arrival_times = [datetime.fromisoformat(str_expected_arrival_time) for str_expected_arrival_time in str_expected_arrival_times]\n",
    "    return expected_arrival_times "
   ]
  },
  {
   "cell_type": "code",
   "execution_count": 120,
   "metadata": {
    "ExecuteTime": {
     "end_time": "2020-04-04T13:05:21.765901Z",
     "start_time": "2020-04-04T13:05:21.749861Z"
    },
    "pycharm": {
     "is_executing": false
    }
   },
   "outputs": [],
   "source": [
    "def compute_time_diff(start, end):\n",
    "    if isinstance(start, datetime_time): # convert to datetime\n",
    "        assert isinstance(end, datetime_time)\n",
    "        start, end = [datetime.combine(datetime.min, t) for t in [start, end]]\n",
    "    if start <= end: # e.g., 10:33:26-11:15:49\n",
    "        return end - start\n",
    "    else: # end < start e.g., 23:55:00-00:25:00\n",
    "        end += timedelta(1) # +day\n",
    "        assert end > start\n",
    "        return end - start"
   ]
  },
  {
   "cell_type": "code",
   "execution_count": 121,
   "metadata": {
    "ExecuteTime": {
     "end_time": "2020-04-04T13:05:21.797675Z",
     "start_time": "2020-04-04T13:05:21.772235Z"
    },
    "pycharm": {
     "is_executing": false
    }
   },
   "outputs": [],
   "source": [
    "from datetime import datetime, time as datetime_time, timedelta\n",
    "import pytz\n",
    "\n",
    "\n",
    "class TimeUtils:\n",
    "\n",
    "    @staticmethod\n",
    "    def get_current_localized_time():\n",
    "        current_time_utc = datetime.utcnow()\n",
    "        return pytz.utc.localize(current_time_utc)\n",
    "\n",
    "    @staticmethod\n",
    "    def compute_time_diff(start, end):\n",
    "        if isinstance(start, datetime_time): # convert to datetime\n",
    "            assert isinstance(end, datetime_time)\n",
    "            start, end = [datetime.combine(datetime.min, t) for t in [start, end]]\n",
    "        if start <= end: # e.g., 10:33:26-11:15:49\n",
    "            return TimeUtils._convert_timedelta(end - start)\n",
    "        else: # end < start e.g., 23:55:00-00:25:00\n",
    "            end += timedelta(1) # +day\n",
    "            assert end > start\n",
    "            return TimeUtils._convert_timedelta(end - start)\n",
    "\n",
    "    @staticmethod\n",
    "    def _convert_timedelta(duration):\n",
    "        duration_dict = {}\n",
    "        days, seconds = duration.days, duration.seconds\n",
    "        duration_dict['days'] = days\n",
    "        hours = seconds // 3600\n",
    "        minutes = (seconds % 3600) // 60\n",
    "        seconds = (seconds % 60)\n",
    "        duration_dict['hours'] = hours\n",
    "        duration_dict['minutes'] = minutes\n",
    "        duration_dict['seconds'] = seconds\n",
    "\n",
    "        return duration_dict\n"
   ]
  },
  {
   "cell_type": "code",
   "execution_count": 122,
   "metadata": {
    "ExecuteTime": {
     "end_time": "2020-04-04T13:05:21.830879Z",
     "start_time": "2020-04-04T13:05:21.801389Z"
    },
    "pycharm": {
     "is_executing": false
    }
   },
   "outputs": [],
   "source": [
    "from dataclasses import dataclass, field\n",
    "from typing import List, Optional, Any\n",
    "\n",
    "from dataclasses_json import dataclass_json, config, LetterCase\n",
    "\n",
    "from datetime import datetime\n",
    "\n",
    "@dataclass_json(letter_case=LetterCase.CAMEL)\n",
    "@dataclass\n",
    "class Message:\n",
    "    fr: str = \"\"\n",
    "    nl: str = \"\"\n",
    "        \n",
    "@dataclass_json(letter_case=LetterCase.CAMEL)\n",
    "@dataclass\n",
    "class Destination:\n",
    "    fr: str = \"\"\n",
    "    nl: str = \"\"\n",
    "\n",
    "@dataclass_json(letter_case=LetterCase.CAMEL)\n",
    "@dataclass\n",
    "class PassingTime:\n",
    "    destination: Optional[Destination] = None\n",
    "    message: Optional[Message] = None\n",
    "    line_id: str = \"\"\n",
    "    expected_arrival_time: str = \"\"\n",
    "    arriving_in_dict: dict = field(init=False, repr=False)\n",
    "        \n",
    "    def __post_init__(self):\n",
    "        self.expected_arrival_time = datetime.fromisoformat(self.expected_arrival_time)\n",
    "        current_localized_time = TimeUtils.get_current_localized_time()\n",
    "        self.arriving_in_dict = TimeUtils.compute_time_diff(current_localized_time, self.expected_arrival_time)\n",
    "\n",
    "\n",
    "    def __str__(self):\n",
    "        return f'{self.arriving_in_dict}'\n",
    "\n",
    "        \n",
    "\n",
    "@dataclass_json(letter_case=LetterCase.CAMEL)\n",
    "@dataclass\n",
    "class PointPassingTimes:\n",
    "    passing_times: List[PassingTime] = field(default_factory=list)\n",
    "    point_id: str = \"\"\n",
    "\n"
   ]
  },
  {
   "cell_type": "code",
   "execution_count": 123,
   "metadata": {
    "ExecuteTime": {
     "end_time": "2020-04-04T13:05:22.062563Z",
     "start_time": "2020-04-04T13:05:21.834624Z"
    },
    "pycharm": {
     "is_executing": false
    }
   },
   "outputs": [
    {
     "data": {
      "text/plain": [
       "{'points': [{'passingTimes': [{'destination': {'fr': 'ROODEBEEK',\n",
       "      'nl': 'ROODEBEEK'},\n",
       "     'expectedArrivalTime': '2020-04-04T15:32:00+02:00',\n",
       "     'lineId': '8'},\n",
       "    {'destination': {'fr': 'LEGRAND', 'nl': 'LEGRAND'},\n",
       "     'expectedArrivalTime': '2020-04-04T15:12:00+02:00',\n",
       "     'lineId': '93',\n",
       "     'message': {'fr': 'NE PAS EMBARQUER', 'nl': 'NIET INSTAPPEN'}},\n",
       "    {'destination': {'fr': 'ROODEBEEK', 'nl': 'ROODEBEEK'},\n",
       "     'expectedArrivalTime': '2020-04-04T15:56:00+02:00',\n",
       "     'lineId': '8'},\n",
       "    {'destination': {'fr': 'LEGRAND', 'nl': 'LEGRAND'},\n",
       "     'expectedArrivalTime': '2020-04-04T15:43:00+02:00',\n",
       "     'lineId': '93',\n",
       "     'message': {'fr': 'NE PAS EMBARQUER', 'nl': 'NIET INSTAPPEN'}}],\n",
       "   'pointId': '1047'}]}"
      ]
     },
     "execution_count": 123,
     "metadata": {},
     "output_type": "execute_result"
    }
   ],
   "source": [
    "legrand_stop_id = \"1047F\"\n",
    "bearer = '543567766625859b7088d85b1cdbadad'\n",
    "response = make_api_request(legrand_stop_id, bearer)\n",
    "response"
   ]
  },
  {
   "cell_type": "code",
   "execution_count": 124,
   "metadata": {
    "ExecuteTime": {
     "end_time": "2020-04-04T13:05:22.101480Z",
     "start_time": "2020-04-04T13:05:22.071242Z"
    },
    "pycharm": {
     "is_executing": false
    }
   },
   "outputs": [
    {
     "data": {
      "text/plain": [
       "[PointPassingTimes(passing_times=[PassingTime(destination=Destination(fr='ROODEBEEK', nl='ROODEBEEK'), message=None, line_id='8', expected_arrival_time=datetime.datetime(2020, 4, 4, 15, 32, tzinfo=datetime.timezone(datetime.timedelta(seconds=7200)))), PassingTime(destination=Destination(fr='LEGRAND', nl='LEGRAND'), message=Message(fr='NE PAS EMBARQUER', nl='NIET INSTAPPEN'), line_id='93', expected_arrival_time=datetime.datetime(2020, 4, 4, 15, 12, tzinfo=datetime.timezone(datetime.timedelta(seconds=7200)))), PassingTime(destination=Destination(fr='ROODEBEEK', nl='ROODEBEEK'), message=None, line_id='8', expected_arrival_time=datetime.datetime(2020, 4, 4, 15, 56, tzinfo=datetime.timezone(datetime.timedelta(seconds=7200)))), PassingTime(destination=Destination(fr='LEGRAND', nl='LEGRAND'), message=Message(fr='NE PAS EMBARQUER', nl='NIET INSTAPPEN'), line_id='93', expected_arrival_time=datetime.datetime(2020, 4, 4, 15, 43, tzinfo=datetime.timezone(datetime.timedelta(seconds=7200))))], point_id='1047')]"
      ]
     },
     "execution_count": 124,
     "metadata": {},
     "output_type": "execute_result"
    }
   ],
   "source": [
    "passages = PointPassingTimes.schema().load(response['points'], many=True) \n",
    "\n",
    "passages"
   ]
  },
  {
   "cell_type": "code",
   "execution_count": 125,
   "metadata": {
    "ExecuteTime": {
     "end_time": "2020-04-04T13:05:22.128229Z",
     "start_time": "2020-04-04T13:05:22.109127Z"
    },
    "pycharm": {
     "is_executing": false
    }
   },
   "outputs": [
    {
     "name": "stdout",
     "output_type": "stream",
     "text": [
      "['2020-04-04T15:32:00+02:00', '2020-04-04T15:56:00+02:00']\n",
      "0:26:37.877885\n"
     ]
    }
   ],
   "source": [
    "expected_arrival_times = parse_waiting_times(response, 'ROODEBEEK' )\n",
    "\n",
    "current_time_utc = datetime.utcnow()\n",
    "current_time_be = pytz.utc.localize(current_time_utc)\n",
    "tram_arrival_time = expected_arrival_times[0]\n",
    "\n",
    "waiting_time = compute_time_diff(current_time_be, tram_arrival_time)\n",
    "print(waiting_time)\n"
   ]
  },
  {
   "cell_type": "code",
   "execution_count": 126,
   "metadata": {
    "ExecuteTime": {
     "end_time": "2020-04-04T13:05:22.148173Z",
     "start_time": "2020-04-04T13:05:22.137322Z"
    },
    "pycharm": {
     "is_executing": false
    }
   },
   "outputs": [],
   "source": [
    "def get_shapefiles():\n",
    "    open_data_api_endpoint = \"https://opendata-api.stib-mivb.be/Files/2.0/Shapefiles\" + stop_id\n",
    "    headers = {\"Accept\": \"application/json\"}\n",
    "\n",
    "    response = requests.get(open_data_api_endpoint, auth=BearerAuth(bearer))\n",
    "    \n",
    "    return response.json()"
   ]
  },
  {
   "cell_type": "code",
   "execution_count": 127,
   "metadata": {
    "ExecuteTime": {
     "end_time": "2020-04-04T13:05:22.166500Z",
     "start_time": "2020-04-04T13:05:22.156431Z"
    }
   },
   "outputs": [],
   "source": [
    "from enum import Enum\n",
    "\n",
    "class RouteType(Enum):\n",
    "    TRAMWAY = 0\n",
    "    METRO = 1\n",
    "    BUS = 3"
   ]
  },
  {
   "cell_type": "code",
   "execution_count": 128,
   "metadata": {
    "ExecuteTime": {
     "end_time": "2020-04-04T13:05:22.224936Z",
     "start_time": "2020-04-04T13:05:22.174667Z"
    }
   },
   "outputs": [],
   "source": [
    "ROUTE_DATAPATH = \"gtfs/routes.txt\"\n",
    "STOP_DATAPATH = \"gtfs/stops.txt\"\n",
    "routes_df = pd.read_csv(ROUTE_DATAPATH)\n",
    "stops_df = pd.read_csv(STOP_DATAPATH)"
   ]
  },
  {
   "cell_type": "code",
   "execution_count": 141,
   "metadata": {
    "ExecuteTime": {
     "end_time": "2020-04-04T13:18:27.912212Z",
     "start_time": "2020-04-04T13:18:27.873532Z"
    }
   },
   "outputs": [],
   "source": [
    "@dataclass_json(letter_case=LetterCase.CAMEL)\n",
    "@dataclass\n",
    "class LinePoint:\n",
    "    id: str = \"\"\n",
    "    order: int = 0\n",
    "    stop_name: str = \"\"\n",
    "\n",
    "    def __post_init__(self):\n",
    "        try:\n",
    "            self.stop_name = stops_df[stops_df[\"stop_id\"] == self.id].iloc[0][\"stop_name\"]\n",
    "        except:\n",
    "            self.stop_name = \"\"\n",
    "            \n",
    "\n",
    "\n",
    "@dataclass_json(letter_case=LetterCase.CAMEL)\n",
    "@dataclass\n",
    "class LineDetails:\n",
    "    destination: Optional[Destination] = None\n",
    "    direction: str = \"\"\n",
    "    line_id: str = \"\"\n",
    "    points: List[LinePoint] = field(default_factory=list)\n",
    "    route_type: Optional[RouteType] = None\n",
    "\n",
    "    def __post_init__(self):\n",
    "        self.route_type = RouteType(\n",
    "            routes_df[routes_df[\"route_short_name\"] == self.line_id].iloc[0][\n",
    "                \"route_type\"\n",
    "            ]\n",
    "        )\n"
   ]
  },
  {
   "cell_type": "code",
   "execution_count": 142,
   "metadata": {
    "ExecuteTime": {
     "end_time": "2020-04-04T13:18:28.105103Z",
     "start_time": "2020-04-04T13:18:28.085451Z"
    },
    "pycharm": {
     "is_executing": false
    }
   },
   "outputs": [],
   "source": [
    "def make_line_info_api_request(line_id, bearer):\n",
    "    open_data_api_endpoint = \"https://opendata-api.stib-mivb.be/NetworkDescription/1.0/PointByLine/\" + line_id\n",
    "    headers = {\"Accept\": \"application/json\"}\n",
    "\n",
    "    response = requests.get(open_data_api_endpoint, auth=BearerAuth(bearer))\n",
    "    \n",
    "    return response.json()\n"
   ]
  },
  {
   "cell_type": "code",
   "execution_count": 143,
   "metadata": {
    "ExecuteTime": {
     "end_time": "2020-04-04T13:18:28.455560Z",
     "start_time": "2020-04-04T13:18:28.259225Z"
    }
   },
   "outputs": [
    {
     "data": {
      "text/plain": [
       "{'lines': [{'destination': {'fr': 'LEGRAND', 'nl': 'LEGRAND'},\n",
       "   'direction': 'Suburb',\n",
       "   'lineId': '93',\n",
       "   'points': [{'id': '5400', 'order': 1},\n",
       "    {'id': '5402', 'order': 2},\n",
       "    {'id': '5399F', 'order': 3},\n",
       "    {'id': '5403', 'order': 4},\n",
       "    {'id': '5010', 'order': 5},\n",
       "    {'id': '6501', 'order': 6},\n",
       "    {'id': '6505', 'order': 7},\n",
       "    {'id': '6504', 'order': 8},\n",
       "    {'id': '4130F', 'order': 9},\n",
       "    {'id': '6100', 'order': 10},\n",
       "    {'id': '6122', 'order': 11},\n",
       "    {'id': '1073', 'order': 12},\n",
       "    {'id': '6103F', 'order': 13},\n",
       "    {'id': '6178', 'order': 14},\n",
       "    {'id': '5762', 'order': 15},\n",
       "    {'id': '1646F', 'order': 16},\n",
       "    {'id': '6012G', 'order': 17},\n",
       "    {'id': '6412F', 'order': 18},\n",
       "    {'id': '6014', 'order': 19},\n",
       "    {'id': '6437F', 'order': 20},\n",
       "    {'id': '6308F', 'order': 21},\n",
       "    {'id': '6309F', 'order': 22},\n",
       "    {'id': '6310F', 'order': 23},\n",
       "    {'id': '6311', 'order': 24},\n",
       "    {'id': '6312', 'order': 25},\n",
       "    {'id': '6313', 'order': 26},\n",
       "    {'id': '6314', 'order': 27},\n",
       "    {'id': '5405', 'order': 28},\n",
       "    {'id': '5406', 'order': 29},\n",
       "    {'id': '5404', 'order': 30},\n",
       "    {'id': '5408', 'order': 31},\n",
       "    {'id': '5409', 'order': 32},\n",
       "    {'id': '1047F', 'order': 33}]},\n",
       "  {'destination': {'fr': 'STADE', 'nl': 'STADION'},\n",
       "   'direction': 'City',\n",
       "   'lineId': '93',\n",
       "   'points': [{'id': '1059', 'order': 1},\n",
       "    {'id': '5466', 'order': 2},\n",
       "    {'id': '5467', 'order': 3},\n",
       "    {'id': '5475', 'order': 4},\n",
       "    {'id': '5469', 'order': 5},\n",
       "    {'id': '5470', 'order': 6},\n",
       "    {'id': '6361', 'order': 7},\n",
       "    {'id': '6352', 'order': 8},\n",
       "    {'id': '6353F', 'order': 9},\n",
       "    {'id': '6354', 'order': 10},\n",
       "    {'id': '6355F', 'order': 11},\n",
       "    {'id': '6356F', 'order': 12},\n",
       "    {'id': '6357F', 'order': 13},\n",
       "    {'id': '6434F', 'order': 14},\n",
       "    {'id': '6359F', 'order': 15},\n",
       "    {'id': '6413F', 'order': 16},\n",
       "    {'id': '6066G', 'order': 17},\n",
       "    {'id': '1644F', 'order': 18},\n",
       "    {'id': '6177', 'order': 19},\n",
       "    {'id': '6179', 'order': 20},\n",
       "    {'id': '6168F', 'order': 21},\n",
       "    {'id': '1076', 'order': 22},\n",
       "    {'id': '6174F', 'order': 23},\n",
       "    {'id': '6171', 'order': 24},\n",
       "    {'id': '4126F', 'order': 25},\n",
       "    {'id': '6172', 'order': 26},\n",
       "    {'id': '6552', 'order': 27},\n",
       "    {'id': '6553', 'order': 28},\n",
       "    {'id': '5081F', 'order': 29},\n",
       "    {'id': '5471', 'order': 30},\n",
       "    {'id': '5398F', 'order': 31},\n",
       "    {'id': '5472', 'order': 32},\n",
       "    {'id': '5474', 'order': 33}]}]}"
      ]
     },
     "execution_count": 143,
     "metadata": {},
     "output_type": "execute_result"
    }
   ],
   "source": [
    "line_info_api_response = make_line_info_api_request(\"93\", bearer)\n",
    "line_info_api_response"
   ]
  },
  {
   "cell_type": "code",
   "execution_count": 147,
   "metadata": {
    "ExecuteTime": {
     "end_time": "2020-04-04T14:41:58.461868Z",
     "start_time": "2020-04-04T14:41:58.323768Z"
    }
   },
   "outputs": [
    {
     "data": {
      "text/plain": [
       "'TRAMWAY'"
      ]
     },
     "execution_count": 147,
     "metadata": {},
     "output_type": "execute_result"
    }
   ],
   "source": [
    "lines = LineDetails.schema().load(line_info_api_response['lines'], many=True) \n",
    "\n",
    "lines[0].route_type.name"
   ]
  },
  {
   "cell_type": "code",
   "execution_count": 152,
   "metadata": {
    "ExecuteTime": {
     "end_time": "2020-04-04T17:24:05.828523Z",
     "start_time": "2020-04-04T17:24:05.706234Z"
    }
   },
   "outputs": [
    {
     "data": {
      "text/plain": [
       "[{'destination': {'fr': 'LEGRAND', 'nl': 'LEGRAND'},\n",
       "  'direction': 'Suburb',\n",
       "  'lineId': '93',\n",
       "  'points': [{'id': '5400', 'order': 1, 'stopName': ''},\n",
       "   {'id': '5402', 'order': 2, 'stopName': 'STIENON'},\n",
       "   {'id': '5399F', 'order': 3, 'stopName': 'POLYCL. BRUGMANN'},\n",
       "   {'id': '5403', 'order': 4, 'stopName': 'HOPITAL BRUGMANN'},\n",
       "   {'id': '5010', 'order': 5, 'stopName': 'GUILL. DE GREEF'},\n",
       "   {'id': '6501', 'order': 6, 'stopName': ''},\n",
       "   {'id': '6505', 'order': 7, 'stopName': ''},\n",
       "   {'id': '6504', 'order': 8, 'stopName': ''},\n",
       "   {'id': '4130F', 'order': 9, 'stopName': 'BOCKSTAEL'},\n",
       "   {'id': '6100', 'order': 10, 'stopName': 'MOORSLEDE'},\n",
       "   {'id': '6122', 'order': 11, 'stopName': 'PRINC. CLEMENTINE'},\n",
       "   {'id': '1073', 'order': 12, 'stopName': 'OUTRE-PONTS'},\n",
       "   {'id': '6103F', 'order': 13, 'stopName': 'JULES DE TROOZ'},\n",
       "   {'id': '6178', 'order': 14, 'stopName': 'MASUI'},\n",
       "   {'id': '5762', 'order': 15, 'stopName': 'THOMAS'},\n",
       "   {'id': '1646F', 'order': 16, 'stopName': 'LIEDTS'},\n",
       "   {'id': '6012G', 'order': 17, 'stopName': 'LEFRANCQ'},\n",
       "   {'id': '6412F', 'order': 18, 'stopName': 'SAINTE-MARIE'},\n",
       "   {'id': '6014', 'order': 19, 'stopName': 'GILLON'},\n",
       "   {'id': '6437F', 'order': 20, 'stopName': 'BOTANIQUE'},\n",
       "   {'id': '6308F', 'order': 21, 'stopName': 'CONGRES'},\n",
       "   {'id': '6309F', 'order': 22, 'stopName': 'PARC'},\n",
       "   {'id': '6310F', 'order': 23, 'stopName': 'PALAIS'},\n",
       "   {'id': '6311', 'order': 24, 'stopName': 'ROYALE'},\n",
       "   {'id': '6312', 'order': 25, 'stopName': 'PETIT SABLON'},\n",
       "   {'id': '6313', 'order': 26, 'stopName': 'POELAERT'},\n",
       "   {'id': '6314', 'order': 27, 'stopName': 'LOUISE'},\n",
       "   {'id': '5405', 'order': 28, 'stopName': 'STEPHANIE'},\n",
       "   {'id': '5406', 'order': 29, 'stopName': 'DEFACQZ'},\n",
       "   {'id': '5404', 'order': 30, 'stopName': 'BAILLI'},\n",
       "   {'id': '5408', 'order': 31, 'stopName': 'VLEURGAT'},\n",
       "   {'id': '5409', 'order': 32, 'stopName': 'ABBAYE'},\n",
       "   {'id': '1047F', 'order': 33, 'stopName': 'LEGRAND'}],\n",
       "  'routeType': <RouteType.TRAMWAY: 0>},\n",
       " {'destination': {'fr': 'STADE', 'nl': 'STADION'},\n",
       "  'direction': 'City',\n",
       "  'lineId': '93',\n",
       "  'points': [{'id': '1059', 'order': 1, 'stopName': 'LEGRAND'},\n",
       "   {'id': '5466', 'order': 2, 'stopName': 'ABBAYE'},\n",
       "   {'id': '5467', 'order': 3, 'stopName': 'VLEURGAT'},\n",
       "   {'id': '5475', 'order': 4, 'stopName': 'BAILLI'},\n",
       "   {'id': '5469', 'order': 5, 'stopName': 'DEFACQZ'},\n",
       "   {'id': '5470', 'order': 6, 'stopName': 'STEPHANIE'},\n",
       "   {'id': '6361', 'order': 7, 'stopName': 'LOUISE'},\n",
       "   {'id': '6352', 'order': 8, 'stopName': 'POELAERT'},\n",
       "   {'id': '6353F', 'order': 9, 'stopName': 'PETIT SABLON'},\n",
       "   {'id': '6354', 'order': 10, 'stopName': 'ROYALE'},\n",
       "   {'id': '6355F', 'order': 11, 'stopName': 'PALAIS'},\n",
       "   {'id': '6356F', 'order': 12, 'stopName': 'PARC'},\n",
       "   {'id': '6357F', 'order': 13, 'stopName': 'CONGRES'},\n",
       "   {'id': '6434F', 'order': 14, 'stopName': 'BOTANIQUE'},\n",
       "   {'id': '6359F', 'order': 15, 'stopName': 'GILLON'},\n",
       "   {'id': '6413F', 'order': 16, 'stopName': 'SAINTE-MARIE'},\n",
       "   {'id': '6066G', 'order': 17, 'stopName': 'LEFRANCQ'},\n",
       "   {'id': '1644F', 'order': 18, 'stopName': 'LIEDTS'},\n",
       "   {'id': '6177', 'order': 19, 'stopName': 'THOMAS'},\n",
       "   {'id': '6179', 'order': 20, 'stopName': 'MASUI'},\n",
       "   {'id': '6168F', 'order': 21, 'stopName': 'JULES DE TROOZ'},\n",
       "   {'id': '1076', 'order': 22, 'stopName': 'OUTRE-PONTS'},\n",
       "   {'id': '6174F', 'order': 23, 'stopName': 'PRINC. CLEMENTINE'},\n",
       "   {'id': '6171', 'order': 24, 'stopName': 'MOORSLEDE'},\n",
       "   {'id': '4126F', 'order': 25, 'stopName': 'BOCKSTAEL'},\n",
       "   {'id': '6172', 'order': 26, 'stopName': ''},\n",
       "   {'id': '6552', 'order': 27, 'stopName': ''},\n",
       "   {'id': '6553', 'order': 28, 'stopName': ''},\n",
       "   {'id': '5081F', 'order': 29, 'stopName': 'GUILL. DE GREEF'},\n",
       "   {'id': '5471', 'order': 30, 'stopName': 'HOPITAL BRUGMANN'},\n",
       "   {'id': '5398F', 'order': 31, 'stopName': 'POLYCL. BRUGMANN'},\n",
       "   {'id': '5472', 'order': 32, 'stopName': 'STIENON'},\n",
       "   {'id': '5474', 'order': 33, 'stopName': ''}],\n",
       "  'routeType': <RouteType.TRAMWAY: 0>}]"
      ]
     },
     "execution_count": 152,
     "metadata": {},
     "output_type": "execute_result"
    }
   ],
   "source": [
    "line_details_serialized = [line.to_dict() for line in lines]\n",
    "line_details_serialized"
   ]
  },
  {
   "cell_type": "code",
   "execution_count": 145,
   "metadata": {
    "ExecuteTime": {
     "end_time": "2020-04-04T13:18:28.896742Z",
     "start_time": "2020-04-04T13:18:28.867454Z"
    }
   },
   "outputs": [
    {
     "data": {
      "text/html": [
       "<div>\n",
       "<style scoped>\n",
       "    .dataframe tbody tr th:only-of-type {\n",
       "        vertical-align: middle;\n",
       "    }\n",
       "\n",
       "    .dataframe tbody tr th {\n",
       "        vertical-align: top;\n",
       "    }\n",
       "\n",
       "    .dataframe thead th {\n",
       "        text-align: right;\n",
       "    }\n",
       "</style>\n",
       "<table border=\"1\" class=\"dataframe\">\n",
       "  <thead>\n",
       "    <tr style=\"text-align: right;\">\n",
       "      <th></th>\n",
       "      <th>stop_id</th>\n",
       "      <th>stop_code</th>\n",
       "      <th>stop_name</th>\n",
       "      <th>stop_desc</th>\n",
       "      <th>stop_lat</th>\n",
       "      <th>stop_lon</th>\n",
       "      <th>zone_id</th>\n",
       "      <th>stop_url</th>\n",
       "      <th>location_type</th>\n",
       "      <th>parent_station</th>\n",
       "    </tr>\n",
       "  </thead>\n",
       "  <tbody>\n",
       "    <tr>\n",
       "      <th>1843</th>\n",
       "      <td>5402</td>\n",
       "      <td>NaN</td>\n",
       "      <td>STIENON</td>\n",
       "      <td>NaN</td>\n",
       "      <td>50.890647</td>\n",
       "      <td>4.330038</td>\n",
       "      <td>NaN</td>\n",
       "      <td>NaN</td>\n",
       "      <td>0</td>\n",
       "      <td>NaN</td>\n",
       "    </tr>\n",
       "  </tbody>\n",
       "</table>\n",
       "</div>"
      ],
      "text/plain": [
       "     stop_id  stop_code stop_name  stop_desc   stop_lat  stop_lon  zone_id  \\\n",
       "1843    5402        NaN   STIENON        NaN  50.890647  4.330038      NaN   \n",
       "\n",
       "      stop_url  location_type  parent_station  \n",
       "1843       NaN              0             NaN  "
      ]
     },
     "execution_count": 145,
     "metadata": {},
     "output_type": "execute_result"
    }
   ],
   "source": [
    "stop_name = stops_df[stops_df[\"stop_id\"] == \"5402\"]\n",
    "stop_name"
   ]
  },
  {
   "cell_type": "code",
   "execution_count": 154,
   "metadata": {
    "ExecuteTime": {
     "end_time": "2020-04-05T09:26:07.936916Z",
     "start_time": "2020-04-05T09:26:07.907478Z"
    }
   },
   "outputs": [
    {
     "data": {
      "text/plain": [
       "[LineDetails(destination=Destination(fr='LEGRAND', nl='LEGRAND'), direction='Suburb', line_id='93', points=[LinePoint(id='5400', order=1, stop_name=''), LinePoint(id='5402', order=2, stop_name='STIENON'), LinePoint(id='5399F', order=3, stop_name='POLYCL. BRUGMANN'), LinePoint(id='5403', order=4, stop_name='HOPITAL BRUGMANN'), LinePoint(id='5010', order=5, stop_name='GUILL. DE GREEF'), LinePoint(id='6501', order=6, stop_name=''), LinePoint(id='6505', order=7, stop_name=''), LinePoint(id='6504', order=8, stop_name=''), LinePoint(id='4130F', order=9, stop_name='BOCKSTAEL'), LinePoint(id='6100', order=10, stop_name='MOORSLEDE'), LinePoint(id='6122', order=11, stop_name='PRINC. CLEMENTINE'), LinePoint(id='1073', order=12, stop_name='OUTRE-PONTS'), LinePoint(id='6103F', order=13, stop_name='JULES DE TROOZ'), LinePoint(id='6178', order=14, stop_name='MASUI'), LinePoint(id='5762', order=15, stop_name='THOMAS'), LinePoint(id='1646F', order=16, stop_name='LIEDTS'), LinePoint(id='6012G', order=17, stop_name='LEFRANCQ'), LinePoint(id='6412F', order=18, stop_name='SAINTE-MARIE'), LinePoint(id='6014', order=19, stop_name='GILLON'), LinePoint(id='6437F', order=20, stop_name='BOTANIQUE'), LinePoint(id='6308F', order=21, stop_name='CONGRES'), LinePoint(id='6309F', order=22, stop_name='PARC'), LinePoint(id='6310F', order=23, stop_name='PALAIS'), LinePoint(id='6311', order=24, stop_name='ROYALE'), LinePoint(id='6312', order=25, stop_name='PETIT SABLON'), LinePoint(id='6313', order=26, stop_name='POELAERT'), LinePoint(id='6314', order=27, stop_name='LOUISE'), LinePoint(id='5405', order=28, stop_name='STEPHANIE'), LinePoint(id='5406', order=29, stop_name='DEFACQZ'), LinePoint(id='5404', order=30, stop_name='BAILLI'), LinePoint(id='5408', order=31, stop_name='VLEURGAT'), LinePoint(id='5409', order=32, stop_name='ABBAYE'), LinePoint(id='1047F', order=33, stop_name='LEGRAND')], route_type=<RouteType.TRAMWAY: 0>),\n",
       " LineDetails(destination=Destination(fr='STADE', nl='STADION'), direction='City', line_id='93', points=[LinePoint(id='1059', order=1, stop_name='LEGRAND'), LinePoint(id='5466', order=2, stop_name='ABBAYE'), LinePoint(id='5467', order=3, stop_name='VLEURGAT'), LinePoint(id='5475', order=4, stop_name='BAILLI'), LinePoint(id='5469', order=5, stop_name='DEFACQZ'), LinePoint(id='5470', order=6, stop_name='STEPHANIE'), LinePoint(id='6361', order=7, stop_name='LOUISE'), LinePoint(id='6352', order=8, stop_name='POELAERT'), LinePoint(id='6353F', order=9, stop_name='PETIT SABLON'), LinePoint(id='6354', order=10, stop_name='ROYALE'), LinePoint(id='6355F', order=11, stop_name='PALAIS'), LinePoint(id='6356F', order=12, stop_name='PARC'), LinePoint(id='6357F', order=13, stop_name='CONGRES'), LinePoint(id='6434F', order=14, stop_name='BOTANIQUE'), LinePoint(id='6359F', order=15, stop_name='GILLON'), LinePoint(id='6413F', order=16, stop_name='SAINTE-MARIE'), LinePoint(id='6066G', order=17, stop_name='LEFRANCQ'), LinePoint(id='1644F', order=18, stop_name='LIEDTS'), LinePoint(id='6177', order=19, stop_name='THOMAS'), LinePoint(id='6179', order=20, stop_name='MASUI'), LinePoint(id='6168F', order=21, stop_name='JULES DE TROOZ'), LinePoint(id='1076', order=22, stop_name='OUTRE-PONTS'), LinePoint(id='6174F', order=23, stop_name='PRINC. CLEMENTINE'), LinePoint(id='6171', order=24, stop_name='MOORSLEDE'), LinePoint(id='4126F', order=25, stop_name='BOCKSTAEL'), LinePoint(id='6172', order=26, stop_name=''), LinePoint(id='6552', order=27, stop_name=''), LinePoint(id='6553', order=28, stop_name=''), LinePoint(id='5081F', order=29, stop_name='GUILL. DE GREEF'), LinePoint(id='5471', order=30, stop_name='HOPITAL BRUGMANN'), LinePoint(id='5398F', order=31, stop_name='POLYCL. BRUGMANN'), LinePoint(id='5472', order=32, stop_name='STIENON'), LinePoint(id='5474', order=33, stop_name='')], route_type=<RouteType.TRAMWAY: 0>)]"
      ]
     },
     "execution_count": 154,
     "metadata": {},
     "output_type": "execute_result"
    }
   ],
   "source": [
    "lines"
   ]
  },
  {
   "cell_type": "code",
   "execution_count": null,
   "metadata": {},
   "outputs": [],
   "source": []
  }
 ],
 "metadata": {
  "kernelspec": {
   "display_name": "py_37_env",
   "language": "python",
   "name": "py_37_env"
  },
  "language_info": {
   "codemirror_mode": {
    "name": "ipython",
    "version": 3
   },
   "file_extension": ".py",
   "mimetype": "text/x-python",
   "name": "python",
   "nbconvert_exporter": "python",
   "pygments_lexer": "ipython3",
   "version": "3.7.6"
  },
  "toc": {
   "base_numbering": 1,
   "nav_menu": {},
   "number_sections": true,
   "sideBar": true,
   "skip_h1_title": false,
   "title_cell": "Table of Contents",
   "title_sidebar": "Contents",
   "toc_cell": false,
   "toc_position": {},
   "toc_section_display": true,
   "toc_window_display": false
  },
  "varInspector": {
   "cols": {
    "lenName": 16,
    "lenType": 16,
    "lenVar": 40
   },
   "kernels_config": {
    "python": {
     "delete_cmd_postfix": "",
     "delete_cmd_prefix": "del ",
     "library": "var_list.py",
     "varRefreshCmd": "print(var_dic_list())"
    },
    "r": {
     "delete_cmd_postfix": ") ",
     "delete_cmd_prefix": "rm(",
     "library": "var_list.r",
     "varRefreshCmd": "cat(var_dic_list()) "
    }
   },
   "types_to_exclude": [
    "module",
    "function",
    "builtin_function_or_method",
    "instance",
    "_Feature"
   ],
   "window_display": false
  }
 },
 "nbformat": 4,
 "nbformat_minor": 2
}
