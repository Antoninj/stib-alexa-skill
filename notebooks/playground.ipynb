{
 "cells": [
  {
   "cell_type": "code",
   "execution_count": 1,
   "metadata": {
    "ExecuteTime": {
     "end_time": "2020-04-02T08:59:58.418708Z",
     "start_time": "2020-04-02T08:59:57.816803Z"
    },
    "pycharm": {
     "is_executing": false
    }
   },
   "outputs": [],
   "source": [
    "import requests\n",
    "import pytz\n",
    "\n",
    "import json\n",
    "from datetime import datetime, time as datetime_time, timedelta\n",
    "import calendar\n"
   ]
  },
  {
   "cell_type": "code",
   "execution_count": 2,
   "metadata": {
    "ExecuteTime": {
     "end_time": "2020-04-02T08:59:58.451888Z",
     "start_time": "2020-04-02T08:59:58.434851Z"
    },
    "pycharm": {
     "is_executing": false
    }
   },
   "outputs": [],
   "source": [
    "class BearerAuth(requests.auth.AuthBase):\n",
    "    def __init__(self, token):\n",
    "        self.token = token\n",
    "\n",
    "    def __call__(self, r):\n",
    "        r.headers[\"authorization\"] = \"Bearer \" + self.token\n",
    "        return r\n"
   ]
  },
  {
   "cell_type": "code",
   "execution_count": 3,
   "metadata": {
    "ExecuteTime": {
     "end_time": "2020-04-02T08:59:58.486801Z",
     "start_time": "2020-04-02T08:59:58.478782Z"
    },
    "pycharm": {
     "is_executing": false
    }
   },
   "outputs": [],
   "source": [
    "def make_api_request(stop_id, bearer):\n",
    "    open_data_api_endpoint = \"https://opendata-api.stib-mivb.be/OperationMonitoring/4.0/PassingTimeByPoint/\" + stop_id\n",
    "    headers = {\"Accept\": \"application/json\"}\n",
    "\n",
    "    response = requests.get(open_data_api_endpoint, auth=BearerAuth(bearer))\n",
    "    \n",
    "    return response.json()"
   ]
  },
  {
   "cell_type": "code",
   "execution_count": 4,
   "metadata": {
    "ExecuteTime": {
     "end_time": "2020-04-02T08:59:58.519288Z",
     "start_time": "2020-04-02T08:59:58.503521Z"
    },
    "pycharm": {
     "is_executing": false
    }
   },
   "outputs": [],
   "source": [
    "def parse_waiting_times(json_payload, destination):\n",
    "    passing_times = json_payload['points'][0]['passingTimes']\n",
    "    str_expected_arrival_times = [passing_time['expectedArrivalTime'] for passing_time in passing_times if passing_time['destination']['fr']==destination]\n",
    "    print(str_expected_arrival_times)\n",
    "    expected_arrival_times = [datetime.fromisoformat(str_expected_arrival_time) for str_expected_arrival_time in str_expected_arrival_times]\n",
    "    return expected_arrival_times "
   ]
  },
  {
   "cell_type": "code",
   "execution_count": 5,
   "metadata": {
    "ExecuteTime": {
     "end_time": "2020-04-02T08:59:58.655709Z",
     "start_time": "2020-04-02T08:59:58.531698Z"
    },
    "pycharm": {
     "is_executing": false
    }
   },
   "outputs": [],
   "source": [
    "def compute_time_diff(start, end):\n",
    "    if isinstance(start, datetime_time): # convert to datetime\n",
    "        assert isinstance(end, datetime_time)\n",
    "        start, end = [datetime.combine(datetime.min, t) for t in [start, end]]\n",
    "    if start <= end: # e.g., 10:33:26-11:15:49\n",
    "        return end - start\n",
    "    else: # end < start e.g., 23:55:00-00:25:00\n",
    "        end += timedelta(1) # +day\n",
    "        assert end > start\n",
    "        return end - start"
   ]
  },
  {
   "cell_type": "code",
   "execution_count": 6,
   "metadata": {
    "ExecuteTime": {
     "end_time": "2020-04-02T08:59:58.689264Z",
     "start_time": "2020-04-02T08:59:58.668556Z"
    },
    "pycharm": {
     "is_executing": false
    }
   },
   "outputs": [],
   "source": [
    "from datetime import datetime, time as datetime_time, timedelta\n",
    "import pytz\n",
    "\n",
    "\n",
    "class TimeUtils:\n",
    "\n",
    "    @staticmethod\n",
    "    def get_current_localized_time():\n",
    "        current_time_utc = datetime.utcnow()\n",
    "        return pytz.utc.localize(current_time_utc)\n",
    "\n",
    "    @staticmethod\n",
    "    def compute_time_diff(start, end):\n",
    "        if isinstance(start, datetime_time): # convert to datetime\n",
    "            assert isinstance(end, datetime_time)\n",
    "            start, end = [datetime.combine(datetime.min, t) for t in [start, end]]\n",
    "        if start <= end: # e.g., 10:33:26-11:15:49\n",
    "            return TimeUtils._convert_timedelta(end - start)\n",
    "        else: # end < start e.g., 23:55:00-00:25:00\n",
    "            end += timedelta(1) # +day\n",
    "            assert end > start\n",
    "            return TimeUtils._convert_timedelta(end - start)\n",
    "\n",
    "    @staticmethod\n",
    "    def _convert_timedelta(duration):\n",
    "        duration_dict = {}\n",
    "        days, seconds = duration.days, duration.seconds\n",
    "        duration_dict['days'] = days\n",
    "        hours = seconds // 3600\n",
    "        minutes = (seconds % 3600) // 60\n",
    "        seconds = (seconds % 60)\n",
    "        duration_dict['hours'] = hours\n",
    "        duration_dict['minutes'] = minutes\n",
    "        duration_dict['seconds'] = seconds\n",
    "\n",
    "        return duration_dict\n"
   ]
  },
  {
   "cell_type": "code",
   "execution_count": 7,
   "metadata": {
    "ExecuteTime": {
     "end_time": "2020-04-02T08:59:59.082177Z",
     "start_time": "2020-04-02T08:59:58.703533Z"
    },
    "pycharm": {
     "is_executing": false
    }
   },
   "outputs": [],
   "source": [
    "from dataclasses import dataclass, field\n",
    "from typing import List, Optional, Any\n",
    "\n",
    "from dataclasses_json import dataclass_json, config, LetterCase\n",
    "\n",
    "from datetime import datetime\n",
    "\n",
    "@dataclass_json(letter_case=LetterCase.CAMEL)\n",
    "@dataclass\n",
    "class Message:\n",
    "    fr: str = \"\"\n",
    "    nl: str = \"\"\n",
    "        \n",
    "@dataclass_json(letter_case=LetterCase.CAMEL)\n",
    "@dataclass\n",
    "class Destination:\n",
    "    fr: str = \"\"\n",
    "    nl: str = \"\"\n",
    "\n",
    "@dataclass_json(letter_case=LetterCase.CAMEL)\n",
    "@dataclass\n",
    "class PassingTime:\n",
    "    destination: Optional[Destination] = None\n",
    "    message: Optional[Message] = None\n",
    "    line_id: str = \"\"\n",
    "    expected_arrival_time: str = \"\"\n",
    "    arriving_in_dict: dict = field(init=False, repr=False)\n",
    "        \n",
    "    def __post_init__(self):\n",
    "        self.expected_arrival_time = datetime.fromisoformat(self.expected_arrival_time)\n",
    "        current_localized_time = TimeUtils.get_current_localized_time()\n",
    "        self.arriving_in_dict = TimeUtils.compute_time_diff(current_localized_time, self.expected_arrival_time)\n",
    "\n",
    "\n",
    "    def __str__(self):\n",
    "        return f'{self.arriving_in_dict}'\n",
    "\n",
    "        \n",
    "\n",
    "@dataclass_json(letter_case=LetterCase.CAMEL)\n",
    "@dataclass\n",
    "class PointPassingTimes:\n",
    "    passing_times: List[PassingTime] = field(default_factory=list)\n",
    "    point_id: str = \"\"\n",
    "\n"
   ]
  },
  {
   "cell_type": "code",
   "execution_count": 34,
   "metadata": {
    "ExecuteTime": {
     "end_time": "2020-04-02T11:38:43.436273Z",
     "start_time": "2020-04-02T11:38:43.010520Z"
    },
    "pycharm": {
     "is_executing": false
    }
   },
   "outputs": [
    {
     "data": {
      "text/plain": [
       "{'points': [{'passingTimes': [{'destination': {'fr': 'ROODEBEEK',\n",
       "      'nl': 'ROODEBEEK'},\n",
       "     'expectedArrivalTime': '2020-04-02T13:56:00+02:00',\n",
       "     'lineId': '8'},\n",
       "    {'destination': {'fr': 'LEGRAND', 'nl': 'LEGRAND'},\n",
       "     'expectedArrivalTime': '2020-04-02T13:59:00+02:00',\n",
       "     'lineId': '93',\n",
       "     'message': {'fr': 'NE PAS EMBARQUER', 'nl': 'NIET INSTAPPEN'}},\n",
       "    {'destination': {'fr': 'ROODEBEEK', 'nl': 'ROODEBEEK'},\n",
       "     'expectedArrivalTime': '2020-04-02T14:10:00+02:00',\n",
       "     'lineId': '8'},\n",
       "    {'destination': {'fr': 'LEGRAND', 'nl': 'LEGRAND'},\n",
       "     'expectedArrivalTime': '2020-04-02T14:13:00+02:00',\n",
       "     'lineId': '93',\n",
       "     'message': {'fr': 'NE PAS EMBARQUER', 'nl': 'NIET INSTAPPEN'}}],\n",
       "   'pointId': '1047'}]}"
      ]
     },
     "execution_count": 34,
     "metadata": {},
     "output_type": "execute_result"
    }
   ],
   "source": [
    "legrand_stop_id = \"1047F\"\n",
    "bearer = 'c0b023736cbee78c8c2cd9e34a475013'\n",
    "response = make_api_request(legrand_stop_id, bearer)\n",
    "response"
   ]
  },
  {
   "cell_type": "code",
   "execution_count": 35,
   "metadata": {
    "ExecuteTime": {
     "end_time": "2020-04-02T11:38:43.740979Z",
     "start_time": "2020-04-02T11:38:43.507289Z"
    },
    "pycharm": {
     "is_executing": false
    }
   },
   "outputs": [
    {
     "data": {
      "text/plain": [
       "[PointPassingTimes(passing_times=[PassingTime(destination=Destination(fr='ROODEBEEK', nl='ROODEBEEK'), message=None, line_id='8', expected_arrival_time=datetime.datetime(2020, 4, 2, 13, 56, tzinfo=datetime.timezone(datetime.timedelta(seconds=7200)))), PassingTime(destination=Destination(fr='LEGRAND', nl='LEGRAND'), message=Message(fr='NE PAS EMBARQUER', nl='NIET INSTAPPEN'), line_id='93', expected_arrival_time=datetime.datetime(2020, 4, 2, 13, 59, tzinfo=datetime.timezone(datetime.timedelta(seconds=7200)))), PassingTime(destination=Destination(fr='ROODEBEEK', nl='ROODEBEEK'), message=None, line_id='8', expected_arrival_time=datetime.datetime(2020, 4, 2, 14, 10, tzinfo=datetime.timezone(datetime.timedelta(seconds=7200)))), PassingTime(destination=Destination(fr='LEGRAND', nl='LEGRAND'), message=Message(fr='NE PAS EMBARQUER', nl='NIET INSTAPPEN'), line_id='93', expected_arrival_time=datetime.datetime(2020, 4, 2, 14, 13, tzinfo=datetime.timezone(datetime.timedelta(seconds=7200))))], point_id='1047')]"
      ]
     },
     "execution_count": 35,
     "metadata": {},
     "output_type": "execute_result"
    }
   ],
   "source": [
    "passages = PointPassingTimes.schema().load(response['points'], many=True) \n",
    "\n",
    "passages"
   ]
  },
  {
   "cell_type": "code",
   "execution_count": 36,
   "metadata": {
    "ExecuteTime": {
     "end_time": "2020-04-02T11:38:43.880271Z",
     "start_time": "2020-04-02T11:38:43.857983Z"
    },
    "pycharm": {
     "is_executing": false
    }
   },
   "outputs": [
    {
     "name": "stdout",
     "output_type": "stream",
     "text": [
      "['2020-04-02T13:56:00+02:00', '2020-04-02T14:10:00+02:00']\n",
      "0:17:16.133689\n"
     ]
    }
   ],
   "source": [
    "expected_arrival_times = parse_waiting_times(response, 'ROODEBEEK' )\n",
    "\n",
    "current_time_utc = datetime.utcnow()\n",
    "current_time_be = pytz.utc.localize(current_time_utc)\n",
    "tram_arrival_time = expected_arrival_times[0]\n",
    "\n",
    "waiting_time = compute_time_diff(current_time_be, tram_arrival_time)\n",
    "print(waiting_time)\n"
   ]
  },
  {
   "cell_type": "code",
   "execution_count": 38,
   "metadata": {
    "ExecuteTime": {
     "end_time": "2020-04-02T11:38:51.490942Z",
     "start_time": "2020-04-02T11:38:51.483892Z"
    },
    "pycharm": {
     "is_executing": false
    }
   },
   "outputs": [],
   "source": [
    "def get_shapefiles():\n",
    "    open_data_api_endpoint = \"https://opendata-api.stib-mivb.be/Files/2.0/Shapefiles\" + stop_id\n",
    "    headers = {\"Accept\": \"application/json\"}\n",
    "\n",
    "    response = requests.get(open_data_api_endpoint, auth=BearerAuth(bearer))\n",
    "    \n",
    "    return response.json()"
   ]
  },
  {
   "cell_type": "code",
   "execution_count": 41,
   "metadata": {
    "ExecuteTime": {
     "end_time": "2020-04-02T11:47:09.612848Z",
     "start_time": "2020-04-02T11:47:09.590026Z"
    }
   },
   "outputs": [],
   "source": [
    "@dataclass_json(letter_case=LetterCase.CAMEL)\n",
    "@dataclass\n",
    "class LinePoint:\n",
    "    id: str = \"\"\n",
    "    order: int = 0\n",
    "\n",
    "\n",
    "@dataclass_json(letter_case=LetterCase.CAMEL)\n",
    "@dataclass\n",
    "class LineInfo:\n",
    "    destination: Optional[Destination] = None\n",
    "    direction: str = \"\"\n",
    "    line_id: str = \"\"\n",
    "    points: List[LinePoint] = field(default_factory=list)\n",
    "\n",
    "    def __post_init__(self):\n",
    "        pass"
   ]
  },
  {
   "cell_type": "code",
   "execution_count": 39,
   "metadata": {
    "ExecuteTime": {
     "end_time": "2020-04-02T11:38:51.665032Z",
     "start_time": "2020-04-02T11:38:51.656911Z"
    },
    "pycharm": {
     "is_executing": false
    }
   },
   "outputs": [],
   "source": [
    "def make_line_info_api_request(line_id, bearer):\n",
    "    open_data_api_endpoint = \"https://opendata-api.stib-mivb.be/NetworkDescription/1.0/PointByLine/\" + line_id\n",
    "    headers = {\"Accept\": \"application/json\"}\n",
    "\n",
    "    response = requests.get(open_data_api_endpoint, auth=BearerAuth(bearer))\n",
    "    \n",
    "    return response.json()\n"
   ]
  },
  {
   "cell_type": "code",
   "execution_count": 43,
   "metadata": {
    "ExecuteTime": {
     "end_time": "2020-04-02T11:47:57.037807Z",
     "start_time": "2020-04-02T11:47:56.205462Z"
    }
   },
   "outputs": [
    {
     "data": {
      "text/plain": [
       "{'lines': [{'destination': {'fr': 'LEGRAND', 'nl': 'LEGRAND'},\n",
       "   'direction': 'Suburb',\n",
       "   'lineId': '93',\n",
       "   'points': [{'id': '5400', 'order': 1},\n",
       "    {'id': '5402', 'order': 2},\n",
       "    {'id': '5399F', 'order': 3},\n",
       "    {'id': '5403', 'order': 4},\n",
       "    {'id': '5010', 'order': 5},\n",
       "    {'id': '6501', 'order': 6},\n",
       "    {'id': '6505', 'order': 7},\n",
       "    {'id': '6504', 'order': 8},\n",
       "    {'id': '4130F', 'order': 9},\n",
       "    {'id': '6100', 'order': 10},\n",
       "    {'id': '6122', 'order': 11},\n",
       "    {'id': '1073', 'order': 12},\n",
       "    {'id': '6103F', 'order': 13},\n",
       "    {'id': '6178', 'order': 14},\n",
       "    {'id': '5762', 'order': 15},\n",
       "    {'id': '1646F', 'order': 16},\n",
       "    {'id': '6012G', 'order': 17},\n",
       "    {'id': '6412F', 'order': 18},\n",
       "    {'id': '6014', 'order': 19},\n",
       "    {'id': '6437F', 'order': 20},\n",
       "    {'id': '6308F', 'order': 21},\n",
       "    {'id': '6309F', 'order': 22},\n",
       "    {'id': '6310F', 'order': 23},\n",
       "    {'id': '6311', 'order': 24},\n",
       "    {'id': '6312', 'order': 25},\n",
       "    {'id': '6313', 'order': 26},\n",
       "    {'id': '6314', 'order': 27},\n",
       "    {'id': '5405', 'order': 28},\n",
       "    {'id': '5406', 'order': 29},\n",
       "    {'id': '5404', 'order': 30},\n",
       "    {'id': '5408', 'order': 31},\n",
       "    {'id': '5409', 'order': 32},\n",
       "    {'id': '1047F', 'order': 33}]},\n",
       "  {'destination': {'fr': 'STADE', 'nl': 'STADION'},\n",
       "   'direction': 'City',\n",
       "   'lineId': '93',\n",
       "   'points': [{'id': '1059', 'order': 1},\n",
       "    {'id': '5466', 'order': 2},\n",
       "    {'id': '5467', 'order': 3},\n",
       "    {'id': '5475', 'order': 4},\n",
       "    {'id': '5469', 'order': 5},\n",
       "    {'id': '5470', 'order': 6},\n",
       "    {'id': '6361', 'order': 7},\n",
       "    {'id': '6352', 'order': 8},\n",
       "    {'id': '6353F', 'order': 9},\n",
       "    {'id': '6354', 'order': 10},\n",
       "    {'id': '6355F', 'order': 11},\n",
       "    {'id': '6356F', 'order': 12},\n",
       "    {'id': '6357F', 'order': 13},\n",
       "    {'id': '6434F', 'order': 14},\n",
       "    {'id': '6359F', 'order': 15},\n",
       "    {'id': '6413F', 'order': 16},\n",
       "    {'id': '6066G', 'order': 17},\n",
       "    {'id': '1644F', 'order': 18},\n",
       "    {'id': '6177', 'order': 19},\n",
       "    {'id': '6179', 'order': 20},\n",
       "    {'id': '6168F', 'order': 21},\n",
       "    {'id': '1076', 'order': 22},\n",
       "    {'id': '6174F', 'order': 23},\n",
       "    {'id': '6171', 'order': 24},\n",
       "    {'id': '4126F', 'order': 25},\n",
       "    {'id': '6172', 'order': 26},\n",
       "    {'id': '6552', 'order': 27},\n",
       "    {'id': '6553', 'order': 28},\n",
       "    {'id': '5081F', 'order': 29},\n",
       "    {'id': '5471', 'order': 30},\n",
       "    {'id': '5398F', 'order': 31},\n",
       "    {'id': '5472', 'order': 32},\n",
       "    {'id': '5474', 'order': 33}]}]}"
      ]
     },
     "execution_count": 43,
     "metadata": {},
     "output_type": "execute_result"
    }
   ],
   "source": [
    "line_info_api_response = make_line_info_api_request(\"93\", bearer)\n",
    "line_info_api_response"
   ]
  },
  {
   "cell_type": "code",
   "execution_count": 45,
   "metadata": {
    "ExecuteTime": {
     "end_time": "2020-04-02T11:48:02.667493Z",
     "start_time": "2020-04-02T11:48:02.631100Z"
    }
   },
   "outputs": [
    {
     "data": {
      "text/plain": [
       "[LineInfo(destination=Destination(fr='LEGRAND', nl='LEGRAND'), direction='Suburb', line_id='93', points=[LinePoint(id='5400', order=1), LinePoint(id='5402', order=2), LinePoint(id='5399F', order=3), LinePoint(id='5403', order=4), LinePoint(id='5010', order=5), LinePoint(id='6501', order=6), LinePoint(id='6505', order=7), LinePoint(id='6504', order=8), LinePoint(id='4130F', order=9), LinePoint(id='6100', order=10), LinePoint(id='6122', order=11), LinePoint(id='1073', order=12), LinePoint(id='6103F', order=13), LinePoint(id='6178', order=14), LinePoint(id='5762', order=15), LinePoint(id='1646F', order=16), LinePoint(id='6012G', order=17), LinePoint(id='6412F', order=18), LinePoint(id='6014', order=19), LinePoint(id='6437F', order=20), LinePoint(id='6308F', order=21), LinePoint(id='6309F', order=22), LinePoint(id='6310F', order=23), LinePoint(id='6311', order=24), LinePoint(id='6312', order=25), LinePoint(id='6313', order=26), LinePoint(id='6314', order=27), LinePoint(id='5405', order=28), LinePoint(id='5406', order=29), LinePoint(id='5404', order=30), LinePoint(id='5408', order=31), LinePoint(id='5409', order=32), LinePoint(id='1047F', order=33)]),\n",
       " LineInfo(destination=Destination(fr='STADE', nl='STADION'), direction='City', line_id='93', points=[LinePoint(id='1059', order=1), LinePoint(id='5466', order=2), LinePoint(id='5467', order=3), LinePoint(id='5475', order=4), LinePoint(id='5469', order=5), LinePoint(id='5470', order=6), LinePoint(id='6361', order=7), LinePoint(id='6352', order=8), LinePoint(id='6353F', order=9), LinePoint(id='6354', order=10), LinePoint(id='6355F', order=11), LinePoint(id='6356F', order=12), LinePoint(id='6357F', order=13), LinePoint(id='6434F', order=14), LinePoint(id='6359F', order=15), LinePoint(id='6413F', order=16), LinePoint(id='6066G', order=17), LinePoint(id='1644F', order=18), LinePoint(id='6177', order=19), LinePoint(id='6179', order=20), LinePoint(id='6168F', order=21), LinePoint(id='1076', order=22), LinePoint(id='6174F', order=23), LinePoint(id='6171', order=24), LinePoint(id='4126F', order=25), LinePoint(id='6172', order=26), LinePoint(id='6552', order=27), LinePoint(id='6553', order=28), LinePoint(id='5081F', order=29), LinePoint(id='5471', order=30), LinePoint(id='5398F', order=31), LinePoint(id='5472', order=32), LinePoint(id='5474', order=33)])]"
      ]
     },
     "execution_count": 45,
     "metadata": {},
     "output_type": "execute_result"
    }
   ],
   "source": [
    "lines = LineInfo.schema().load(line_info_api_response['lines'], many=True) \n",
    "\n",
    "lines"
   ]
  },
  {
   "cell_type": "code",
   "execution_count": 7,
   "metadata": {
    "ExecuteTime": {
     "end_time": "2020-04-03T13:54:34.210112Z",
     "start_time": "2020-04-03T13:54:34.197752Z"
    }
   },
   "outputs": [
    {
     "data": {
      "text/plain": [
       "{'line_id': '93'}"
      ]
     },
     "execution_count": 7,
     "metadata": {},
     "output_type": "execute_result"
    }
   ],
   "source": [
    "slots = {\"line_id\":\"93\"}\n",
    "slots"
   ]
  },
  {
   "cell_type": "code",
   "execution_count": 8,
   "metadata": {
    "ExecuteTime": {
     "end_time": "2020-04-03T13:54:34.614372Z",
     "start_time": "2020-04-03T13:54:34.601839Z"
    }
   },
   "outputs": [
    {
     "data": {
      "text/plain": [
       "'93'"
      ]
     },
     "execution_count": 8,
     "metadata": {},
     "output_type": "execute_result"
    }
   ],
   "source": [
    "slots['line_id']"
   ]
  },
  {
   "cell_type": "code",
   "execution_count": null,
   "metadata": {},
   "outputs": [],
   "source": []
  }
 ],
 "metadata": {
  "kernelspec": {
   "display_name": "py_37_env",
   "language": "python",
   "name": "py_37_env"
  },
  "language_info": {
   "codemirror_mode": {
    "name": "ipython",
    "version": 3
   },
   "file_extension": ".py",
   "mimetype": "text/x-python",
   "name": "python",
   "nbconvert_exporter": "python",
   "pygments_lexer": "ipython3",
   "version": "3.7.6"
  },
  "toc": {
   "base_numbering": 1,
   "nav_menu": {},
   "number_sections": true,
   "sideBar": true,
   "skip_h1_title": false,
   "title_cell": "Table of Contents",
   "title_sidebar": "Contents",
   "toc_cell": false,
   "toc_position": {},
   "toc_section_display": true,
   "toc_window_display": false
  },
  "varInspector": {
   "cols": {
    "lenName": 16,
    "lenType": 16,
    "lenVar": 40
   },
   "kernels_config": {
    "python": {
     "delete_cmd_postfix": "",
     "delete_cmd_prefix": "del ",
     "library": "var_list.py",
     "varRefreshCmd": "print(var_dic_list())"
    },
    "r": {
     "delete_cmd_postfix": ") ",
     "delete_cmd_prefix": "rm(",
     "library": "var_list.r",
     "varRefreshCmd": "cat(var_dic_list()) "
    }
   },
   "types_to_exclude": [
    "module",
    "function",
    "builtin_function_or_method",
    "instance",
    "_Feature"
   ],
   "window_display": false
  }
 },
 "nbformat": 4,
 "nbformat_minor": 2
}
